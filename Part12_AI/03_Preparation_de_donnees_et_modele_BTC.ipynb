{
 "cells": [
  {
   "cell_type": "markdown",
   "id": "297d02e7",
   "metadata": {
    "toc": true
   },
   "source": [
    "<h1>Table of Contents<span class=\"tocSkip\"></span></h1>\n",
    "<div class=\"toc\"><ul class=\"toc-item\"><li><span><a href=\"#Objectif\" data-toc-modified-id=\"Objectif-1\"><span class=\"toc-item-num\">1&nbsp;&nbsp;</span>Objectif</a></span></li><li><span><a href=\"#Import\" data-toc-modified-id=\"Import-2\"><span class=\"toc-item-num\">2&nbsp;&nbsp;</span>Import</a></span></li><li><span><a href=\"#Import-data-et-Prise-en-Main-Dataset\" data-toc-modified-id=\"Import-data-et-Prise-en-Main-Dataset-3\"><span class=\"toc-item-num\">3&nbsp;&nbsp;</span>Import data et Prise en Main Dataset</a></span></li><li><span><a href=\"#Manipulation-de-data\" data-toc-modified-id=\"Manipulation-de-data-4\"><span class=\"toc-item-num\">4&nbsp;&nbsp;</span>Manipulation de data</a></span></li><li><span><a href=\"#Créer-Target\" data-toc-modified-id=\"Créer-Target-5\"><span class=\"toc-item-num\">5&nbsp;&nbsp;</span>Créer Target</a></span></li><li><span><a href=\"#Split-le-data-set\" data-toc-modified-id=\"Split-le-data-set-6\"><span class=\"toc-item-num\">6&nbsp;&nbsp;</span>Split le data set</a></span></li><li><span><a href=\"#Scaling\" data-toc-modified-id=\"Scaling-7\"><span class=\"toc-item-num\">7&nbsp;&nbsp;</span>Scaling</a></span></li><li><span><a href=\"#Préparation-de-données-pour-le-MLP\" data-toc-modified-id=\"Préparation-de-données-pour-le-MLP-8\"><span class=\"toc-item-num\">8&nbsp;&nbsp;</span>Préparation de données pour le MLP</a></span></li><li><span><a href=\"#Création-de-Model\" data-toc-modified-id=\"Création-de-Model-9\"><span class=\"toc-item-num\">9&nbsp;&nbsp;</span>Création de Model</a></span></li><li><span><a href=\"#Prédire\" data-toc-modified-id=\"Prédire-10\"><span class=\"toc-item-num\">10&nbsp;&nbsp;</span>Prédire</a></span></li><li><span><a href=\"#Rescale\" data-toc-modified-id=\"Rescale-11\"><span class=\"toc-item-num\">11&nbsp;&nbsp;</span>Rescale</a></span></li><li><span><a href=\"#Calculer-l'erreur\" data-toc-modified-id=\"Calculer-l'erreur-12\"><span class=\"toc-item-num\">12&nbsp;&nbsp;</span>Calculer l'erreur</a></span></li><li><span><a href=\"#Calculer-gain\" data-toc-modified-id=\"Calculer-gain-13\"><span class=\"toc-item-num\">13&nbsp;&nbsp;</span>Calculer gain</a></span></li></ul></div>"
   ]
  },
  {
   "cell_type": "markdown",
   "id": "8dce9838",
   "metadata": {},
   "source": [
    "## Objectif\n",
    "\n",
    "- Familiariser avec un nouveau data set\n",
    "- Utiliser plus qu'une seule série temporelle\n",
    "- Créer de nouvelles données à partir de celle déjà disponible\n",
    "==> correction publié à la fin du cours\n",
    "\n",
    "## Import\n",
    "https://www.kaggle.com/datasets/psycon/bitcoin-usdt-2017202204-historical-dataset"
   ]
  },
  {
   "cell_type": "code",
   "execution_count": 1,
   "id": "133b5261",
   "metadata": {},
   "outputs": [],
   "source": [
    "import pandas as pd\n",
    "import matplotlib.pyplot as plt\n",
    "import glob\n",
    "import seaborn as sns; sns.set_theme()\n",
    "import numpy as np\n",
    "from scipy import stats\n",
    "import random\n",
    "from collections import deque \n",
    "import pandas as pd\n",
    "import matplotlib.pyplot as plt\n",
    "import glob\n",
    "import seaborn as sns; sns.set_theme()\n",
    "import numpy as np\n",
    "from scipy import stats\n",
    "import random\n",
    "from collections import deque \n",
    "import os\n",
    "import tensorflow as tf\n",
    "import os\n",
    "import warnings\n",
    "import matplotlib.pyplot as plt\n",
    "import numpy as np\n",
    "import pandas as pd\n",
    "from tensorflow import keras\n",
    "%matplotlib inline\n",
    "from joblib import Parallel, delayed\n",
    "from scipy.stats import f_oneway\n",
    "# univariate mlp example\n",
    "from numpy import array\n",
    "from keras.models import Sequential\n",
    "from keras.layers import BatchNormalization\n",
    "from keras.layers import Dropout\n",
    "from keras.layers import Dense\n",
    "from tensorflow.keras.optimizers import Adam\n",
    "from matplotlib.patches import Patch\n",
    "plt.rcParams[\"figure.figsize\"] = (20,10)\n",
    "import warnings\n",
    "plt.rcParams[\"figure.autolayout\"] = True\n",
    "warnings.filterwarnings(\"ignore\")\n",
    "import warnings\n",
    "import matplotlib.pyplot as plt\n",
    "import numpy as np\n",
    "import pandas as pd\n",
    "%matplotlib inline\n",
    "from joblib import Parallel, delayed\n",
    "from scipy.stats import f_oneway\n",
    "from matplotlib.patches import Patch\n",
    "plt.rcParams[\"figure.figsize\"] = (20,10)\n",
    "import warnings\n",
    "plt.rcParams[\"figure.autolayout\"] = True\n",
    "warnings.filterwarnings(\"ignore\")"
   ]
  },
  {
   "cell_type": "markdown",
   "id": "3d91ce06",
   "metadata": {},
   "source": [
    "## Import data et Prise en Main Dataset\n",
    "- (1) Importez les donées en utilisant **pd.read_csv**\n",
    "- (2) Explorer les données + plot"
   ]
  },
  {
   "cell_type": "code",
   "execution_count": null,
   "id": "fa264eca",
   "metadata": {},
   "outputs": [],
   "source": []
  },
  {
   "cell_type": "code",
   "execution_count": null,
   "id": "1fcf2083",
   "metadata": {},
   "outputs": [],
   "source": []
  },
  {
   "cell_type": "code",
   "execution_count": null,
   "id": "60c9c027",
   "metadata": {},
   "outputs": [],
   "source": []
  },
  {
   "cell_type": "code",
   "execution_count": null,
   "id": "559ac0de",
   "metadata": {},
   "outputs": [],
   "source": []
  },
  {
   "cell_type": "code",
   "execution_count": null,
   "id": "3114588d",
   "metadata": {},
   "outputs": [],
   "source": []
  },
  {
   "cell_type": "code",
   "execution_count": null,
   "id": "8c4a9a10",
   "metadata": {},
   "outputs": [],
   "source": []
  },
  {
   "cell_type": "code",
   "execution_count": null,
   "id": "a2d6d1dd",
   "metadata": {},
   "outputs": [],
   "source": []
  },
  {
   "cell_type": "code",
   "execution_count": null,
   "id": "5d6017f3",
   "metadata": {},
   "outputs": [],
   "source": []
  },
  {
   "cell_type": "code",
   "execution_count": null,
   "id": "82cb4ab1",
   "metadata": {},
   "outputs": [],
   "source": []
  },
  {
   "cell_type": "markdown",
   "id": "891754d2",
   "metadata": {},
   "source": [
    "## Manipulation de data\n",
    "- (1) Combien de données sont manquantes\n",
    "    \n",
    "- (2) Comparez la moyenne des données\n",
    "    - Tips: .describe()\n",
    "- (3) Vérifier s'il y a des duplicata de données\n",
    "    - Tips **duplicated()**"
   ]
  },
  {
   "cell_type": "code",
   "execution_count": null,
   "id": "22a30e8f",
   "metadata": {},
   "outputs": [],
   "source": []
  },
  {
   "cell_type": "code",
   "execution_count": null,
   "id": "0332403a",
   "metadata": {},
   "outputs": [],
   "source": []
  },
  {
   "cell_type": "code",
   "execution_count": null,
   "id": "6e22453f",
   "metadata": {},
   "outputs": [],
   "source": []
  },
  {
   "cell_type": "code",
   "execution_count": null,
   "id": "9a81b133",
   "metadata": {},
   "outputs": [],
   "source": []
  },
  {
   "cell_type": "code",
   "execution_count": null,
   "id": "c5e4ff2d",
   "metadata": {},
   "outputs": [],
   "source": []
  },
  {
   "cell_type": "code",
   "execution_count": null,
   "id": "78c5ef33",
   "metadata": {},
   "outputs": [],
   "source": []
  },
  {
   "cell_type": "code",
   "execution_count": null,
   "id": "4635ec78",
   "metadata": {},
   "outputs": [],
   "source": []
  },
  {
   "cell_type": "code",
   "execution_count": null,
   "id": "b30bf47c",
   "metadata": {},
   "outputs": [],
   "source": []
  },
  {
   "cell_type": "code",
   "execution_count": null,
   "id": "17315e90",
   "metadata": {},
   "outputs": [],
   "source": []
  },
  {
   "cell_type": "code",
   "execution_count": null,
   "id": "55208b02",
   "metadata": {},
   "outputs": [],
   "source": []
  },
  {
   "cell_type": "code",
   "execution_count": null,
   "id": "589f9b66",
   "metadata": {},
   "outputs": [],
   "source": []
  },
  {
   "cell_type": "code",
   "execution_count": null,
   "id": "7a006574",
   "metadata": {},
   "outputs": [],
   "source": []
  },
  {
   "cell_type": "code",
   "execution_count": null,
   "id": "e10b486f",
   "metadata": {},
   "outputs": [],
   "source": []
  },
  {
   "cell_type": "code",
   "execution_count": null,
   "id": "35469862",
   "metadata": {},
   "outputs": [],
   "source": []
  },
  {
   "cell_type": "code",
   "execution_count": null,
   "id": "80b40ffc",
   "metadata": {},
   "outputs": [],
   "source": []
  },
  {
   "cell_type": "code",
   "execution_count": null,
   "id": "d06c64c6",
   "metadata": {},
   "outputs": [],
   "source": []
  },
  {
   "cell_type": "code",
   "execution_count": null,
   "id": "55e3b1de",
   "metadata": {},
   "outputs": [],
   "source": []
  },
  {
   "cell_type": "code",
   "execution_count": null,
   "id": "559436da",
   "metadata": {},
   "outputs": [],
   "source": []
  },
  {
   "cell_type": "code",
   "execution_count": null,
   "id": "a53fd7ec",
   "metadata": {},
   "outputs": [],
   "source": []
  },
  {
   "cell_type": "code",
   "execution_count": null,
   "id": "9f05c9d0",
   "metadata": {},
   "outputs": [],
   "source": []
  },
  {
   "cell_type": "code",
   "execution_count": null,
   "id": "fc60bb70",
   "metadata": {},
   "outputs": [],
   "source": []
  },
  {
   "cell_type": "code",
   "execution_count": null,
   "id": "bfb70185",
   "metadata": {},
   "outputs": [],
   "source": []
  },
  {
   "cell_type": "code",
   "execution_count": null,
   "id": "3e289cc4",
   "metadata": {},
   "outputs": [],
   "source": []
  },
  {
   "cell_type": "markdown",
   "id": "60bdc429",
   "metadata": {},
   "source": [
    "# 4 Resampling\n",
    "\n",
    "- (1) Mettre l'index de temps\n",
    "- (2) Changer l'index en datetime\n",
    "    - Tips: **to_datetime()**\n",
    "    \n",
    "- (3) Supprimer la colonnes (Close Time)\n",
    "\n",
    "- (3 bis) Ressample en heure\n",
    "- (4) Ajouter une colonne rowlling sur 2, 20 et 100 pour toutes les collones\n",
    "- (5) Ajouter un prefix pour le nom de ces nouvelles variables\n",
    "    - Tips **add_prefix()**\n",
    "- (5) Ajouter ces colonnes à votre data frame\n",
    "    - Tips: **concat()**\n",
    "\n",
    "\n",
    "- (6) Vérifier les données manquantes\n",
    "- (7) Drop les lignes contenant des données manquantes\n",
    "\n"
   ]
  },
  {
   "cell_type": "code",
   "execution_count": null,
   "id": "e7f74202",
   "metadata": {},
   "outputs": [],
   "source": []
  },
  {
   "cell_type": "code",
   "execution_count": null,
   "id": "111df3a4",
   "metadata": {},
   "outputs": [],
   "source": []
  },
  {
   "cell_type": "code",
   "execution_count": null,
   "id": "4b8681bc",
   "metadata": {},
   "outputs": [],
   "source": []
  },
  {
   "cell_type": "code",
   "execution_count": null,
   "id": "c2867a95",
   "metadata": {},
   "outputs": [],
   "source": []
  },
  {
   "cell_type": "code",
   "execution_count": null,
   "id": "9f3d4582",
   "metadata": {},
   "outputs": [],
   "source": [
    "import copy \n",
    "df_org = copy.deepcopy(df)\n"
   ]
  },
  {
   "cell_type": "code",
   "execution_count": null,
   "id": "544f7907",
   "metadata": {
    "scrolled": false
   },
   "outputs": [],
   "source": []
  },
  {
   "cell_type": "markdown",
   "id": "307c177b",
   "metadata": {},
   "source": [
    "  \n",
    "- (1) Faire le test afuller pour toutes les colonnes\n",
    "- (2) Faire une dataFrame avec toutes les résultas (p-value) de chaque colonne\n",
    "- (3) Sélectionner toutes les p-value > 0.05\n",
    "- (4) faire la différence de chacune de ces colonnes \n",
    "    - Tips: **diff()**\n",
    "    \n",
    "- (5) Drop na\n",
    "- (6) Faire un second test adfuller pour toutes les colonnes"
   ]
  },
  {
   "cell_type": "code",
   "execution_count": null,
   "id": "db26eb3d",
   "metadata": {},
   "outputs": [],
   "source": []
  },
  {
   "cell_type": "code",
   "execution_count": null,
   "id": "d7b55e48",
   "metadata": {},
   "outputs": [],
   "source": []
  },
  {
   "cell_type": "code",
   "execution_count": null,
   "id": "ff9ea2e0",
   "metadata": {},
   "outputs": [],
   "source": []
  },
  {
   "cell_type": "code",
   "execution_count": null,
   "id": "fae706c8",
   "metadata": {},
   "outputs": [],
   "source": []
  },
  {
   "cell_type": "markdown",
   "id": "a9aee70f",
   "metadata": {},
   "source": [
    "## Créer Target\n",
    "- (1) Faire un shift de la colonne open de 24 (attention au sens). L'idée est de prédire la valeur des 24 prochaines valeurs\n",
    "    - Tips: **shift()**"
   ]
  },
  {
   "cell_type": "code",
   "execution_count": null,
   "id": "b251dfae",
   "metadata": {},
   "outputs": [],
   "source": []
  },
  {
   "cell_type": "code",
   "execution_count": null,
   "id": "d002dc9e",
   "metadata": {},
   "outputs": [],
   "source": []
  },
  {
   "cell_type": "code",
   "execution_count": null,
   "id": "727e43db",
   "metadata": {},
   "outputs": [],
   "source": []
  },
  {
   "cell_type": "code",
   "execution_count": null,
   "id": "dd1422ee",
   "metadata": {
    "scrolled": false
   },
   "outputs": [],
   "source": []
  },
  {
   "cell_type": "code",
   "execution_count": null,
   "id": "75b7fc51",
   "metadata": {},
   "outputs": [],
   "source": []
  },
  {
   "cell_type": "code",
   "execution_count": null,
   "id": "0052b4ea",
   "metadata": {},
   "outputs": [],
   "source": []
  },
  {
   "cell_type": "code",
   "execution_count": null,
   "id": "be47da0b",
   "metadata": {},
   "outputs": [],
   "source": []
  },
  {
   "cell_type": "code",
   "execution_count": null,
   "id": "045cf2bc",
   "metadata": {},
   "outputs": [],
   "source": []
  },
  {
   "cell_type": "code",
   "execution_count": null,
   "id": "521058e5",
   "metadata": {},
   "outputs": [],
   "source": []
  },
  {
   "cell_type": "code",
   "execution_count": null,
   "id": "a1caa5a4",
   "metadata": {},
   "outputs": [],
   "source": []
  },
  {
   "cell_type": "code",
   "execution_count": null,
   "id": "662f958a",
   "metadata": {},
   "outputs": [],
   "source": []
  },
  {
   "cell_type": "markdown",
   "id": "891fa882",
   "metadata": {},
   "source": [
    "## Split le data set\n",
    "\n",
    "- (1) Utiliser la fonction disponoble pour créer des bootstrap de notre time series et faire des plots en Mois \n",
    "- (2) Faire une fonction qui coupe notre bootstrap data set à 70% en train et test set\n",
    "- (3) Faire un plot du training et testing"
   ]
  },
  {
   "cell_type": "code",
   "execution_count": null,
   "id": "d5f8ecb6",
   "metadata": {},
   "outputs": [],
   "source": []
  },
  {
   "cell_type": "code",
   "execution_count": null,
   "id": "5df5ae7d",
   "metadata": {},
   "outputs": [],
   "source": []
  },
  {
   "cell_type": "code",
   "execution_count": null,
   "id": "9c3cf60c",
   "metadata": {},
   "outputs": [],
   "source": []
  },
  {
   "cell_type": "code",
   "execution_count": null,
   "id": "a5f4e0a1",
   "metadata": {},
   "outputs": [],
   "source": []
  },
  {
   "cell_type": "code",
   "execution_count": null,
   "id": "f6d16d9e",
   "metadata": {},
   "outputs": [],
   "source": []
  },
  {
   "cell_type": "code",
   "execution_count": null,
   "id": "2afc7395",
   "metadata": {},
   "outputs": [],
   "source": []
  },
  {
   "cell_type": "code",
   "execution_count": null,
   "id": "e03bf011",
   "metadata": {},
   "outputs": [],
   "source": []
  },
  {
   "cell_type": "code",
   "execution_count": null,
   "id": "f246860f",
   "metadata": {},
   "outputs": [],
   "source": []
  },
  {
   "cell_type": "code",
   "execution_count": null,
   "id": "98a60c4e",
   "metadata": {},
   "outputs": [],
   "source": []
  },
  {
   "cell_type": "code",
   "execution_count": null,
   "id": "ae934d40",
   "metadata": {},
   "outputs": [],
   "source": []
  },
  {
   "cell_type": "code",
   "execution_count": null,
   "id": "e81cf796",
   "metadata": {},
   "outputs": [],
   "source": []
  },
  {
   "cell_type": "code",
   "execution_count": null,
   "id": "1c1ef3c1",
   "metadata": {},
   "outputs": [],
   "source": []
  },
  {
   "cell_type": "code",
   "execution_count": null,
   "id": "eb8131e7",
   "metadata": {},
   "outputs": [],
   "source": []
  },
  {
   "cell_type": "code",
   "execution_count": null,
   "id": "c980e353",
   "metadata": {},
   "outputs": [],
   "source": []
  },
  {
   "cell_type": "code",
   "execution_count": null,
   "id": "673f9b27",
   "metadata": {},
   "outputs": [],
   "source": []
  },
  {
   "cell_type": "code",
   "execution_count": null,
   "id": "2782a5ee",
   "metadata": {},
   "outputs": [],
   "source": []
  },
  {
   "cell_type": "code",
   "execution_count": null,
   "id": "08e739a4",
   "metadata": {},
   "outputs": [],
   "source": []
  },
  {
   "cell_type": "code",
   "execution_count": null,
   "id": "f90ea5a4",
   "metadata": {},
   "outputs": [],
   "source": []
  },
  {
   "cell_type": "code",
   "execution_count": null,
   "id": "38c5be53",
   "metadata": {},
   "outputs": [],
   "source": []
  },
  {
   "cell_type": "markdown",
   "id": "72f3fdfd",
   "metadata": {},
   "source": [
    "## Scaling\n",
    "- (1) Faire un scaling basé sur le training set\n",
    "- (2) Appliquer le scaling sur le testing\n",
    "- (3) Faire deux plots avec subplots training normal + scaled et un autre plot testing normal + scaled"
   ]
  },
  {
   "cell_type": "code",
   "execution_count": null,
   "id": "855c8e27",
   "metadata": {},
   "outputs": [],
   "source": []
  },
  {
   "cell_type": "code",
   "execution_count": null,
   "id": "02a47767",
   "metadata": {},
   "outputs": [],
   "source": []
  },
  {
   "cell_type": "code",
   "execution_count": null,
   "id": "1c0ad080",
   "metadata": {},
   "outputs": [],
   "source": []
  },
  {
   "cell_type": "code",
   "execution_count": null,
   "id": "5b751e73",
   "metadata": {},
   "outputs": [],
   "source": []
  },
  {
   "cell_type": "code",
   "execution_count": null,
   "id": "b96fe8d4",
   "metadata": {},
   "outputs": [],
   "source": []
  },
  {
   "cell_type": "code",
   "execution_count": null,
   "id": "274713b3",
   "metadata": {},
   "outputs": [],
   "source": []
  },
  {
   "cell_type": "code",
   "execution_count": null,
   "id": "f6522929",
   "metadata": {},
   "outputs": [],
   "source": []
  },
  {
   "cell_type": "markdown",
   "id": "a34704f2",
   "metadata": {},
   "source": [
    "## Préparation de données pour le MLP\n",
    "- (1) Faire un split des séquence en X et Y pour le training et test set. L'idée est de prendre les 24 valeurs précédentes"
   ]
  },
  {
   "cell_type": "code",
   "execution_count": null,
   "id": "1bd51724",
   "metadata": {},
   "outputs": [],
   "source": []
  },
  {
   "cell_type": "code",
   "execution_count": null,
   "id": "ccd266f6",
   "metadata": {},
   "outputs": [],
   "source": []
  },
  {
   "cell_type": "code",
   "execution_count": null,
   "id": "4e866a3a",
   "metadata": {},
   "outputs": [],
   "source": []
  },
  {
   "cell_type": "code",
   "execution_count": null,
   "id": "273b7e04",
   "metadata": {},
   "outputs": [],
   "source": []
  },
  {
   "cell_type": "markdown",
   "id": "637e8010",
   "metadata": {},
   "source": [
    "## Création de Model\n",
    "Comme nous avons plus d'une seule série temporelle il est indispensable de faire la multiplication des inputs shape. En effet un réseau de neurone de type MLP ne peut pas intégrer 3 dimensions mais simplement 2. \n",
    "\n",
    "- (1) calculer la dimension des inputs en utilisant la shape[1] et shape[2] de notre X_train\n",
    "- (2) Créer une nouvelle matrice à partir de (1) et de X_train étant en deux dimension"
   ]
  },
  {
   "cell_type": "code",
   "execution_count": null,
   "id": "eaf4090e",
   "metadata": {},
   "outputs": [],
   "source": []
  },
  {
   "cell_type": "code",
   "execution_count": null,
   "id": "8ee9e1a4",
   "metadata": {},
   "outputs": [],
   "source": []
  },
  {
   "cell_type": "code",
   "execution_count": null,
   "id": "d40af7bc",
   "metadata": {},
   "outputs": [],
   "source": []
  },
  {
   "cell_type": "code",
   "execution_count": null,
   "id": "5d2b75bf",
   "metadata": {},
   "outputs": [],
   "source": []
  },
  {
   "cell_type": "markdown",
   "id": "db1ab25f",
   "metadata": {},
   "source": [
    "## Prédire\n",
    "- (1) Faire une prédiction \n",
    "   - N'oubliez pas de changer la dimension de la matrice\n",
    "   - Faire un plot de valeur prédite contre valeur réelle"
   ]
  },
  {
   "cell_type": "code",
   "execution_count": null,
   "id": "c857de44",
   "metadata": {},
   "outputs": [],
   "source": []
  },
  {
   "cell_type": "code",
   "execution_count": null,
   "id": "1c3a0e51",
   "metadata": {},
   "outputs": [],
   "source": []
  },
  {
   "cell_type": "code",
   "execution_count": null,
   "id": "222d94a0",
   "metadata": {},
   "outputs": [],
   "source": []
  },
  {
   "cell_type": "code",
   "execution_count": null,
   "id": "44775076",
   "metadata": {},
   "outputs": [],
   "source": []
  },
  {
   "cell_type": "code",
   "execution_count": null,
   "id": "d6d77951",
   "metadata": {},
   "outputs": [],
   "source": []
  },
  {
   "cell_type": "code",
   "execution_count": null,
   "id": "ae7b78b3",
   "metadata": {},
   "outputs": [],
   "source": []
  },
  {
   "cell_type": "code",
   "execution_count": null,
   "id": "28aab707",
   "metadata": {},
   "outputs": [],
   "source": []
  },
  {
   "cell_type": "markdown",
   "id": "714ef17b",
   "metadata": {},
   "source": [
    "## Rescale\n",
    " "
   ]
  },
  {
   "cell_type": "code",
   "execution_count": null,
   "id": "7572db9d",
   "metadata": {},
   "outputs": [],
   "source": []
  },
  {
   "cell_type": "code",
   "execution_count": null,
   "id": "7d0a22c2",
   "metadata": {},
   "outputs": [],
   "source": []
  },
  {
   "cell_type": "code",
   "execution_count": null,
   "id": "57bbbafc",
   "metadata": {},
   "outputs": [],
   "source": []
  },
  {
   "cell_type": "code",
   "execution_count": null,
   "id": "10a2ec8a",
   "metadata": {},
   "outputs": [],
   "source": []
  },
  {
   "cell_type": "code",
   "execution_count": null,
   "id": "b99f6b84",
   "metadata": {},
   "outputs": [],
   "source": []
  },
  {
   "cell_type": "code",
   "execution_count": null,
   "id": "2240a161",
   "metadata": {},
   "outputs": [],
   "source": []
  },
  {
   "cell_type": "code",
   "execution_count": null,
   "id": "6f7e1bf4",
   "metadata": {},
   "outputs": [],
   "source": []
  },
  {
   "cell_type": "code",
   "execution_count": null,
   "id": "a461c6ed",
   "metadata": {},
   "outputs": [],
   "source": []
  },
  {
   "cell_type": "code",
   "execution_count": null,
   "id": "9b3a0a4a",
   "metadata": {},
   "outputs": [],
   "source": []
  },
  {
   "cell_type": "code",
   "execution_count": null,
   "id": "82e5603b",
   "metadata": {},
   "outputs": [],
   "source": []
  },
  {
   "cell_type": "code",
   "execution_count": null,
   "id": "05773393",
   "metadata": {},
   "outputs": [],
   "source": []
  },
  {
   "cell_type": "code",
   "execution_count": null,
   "id": "b0711a72",
   "metadata": {},
   "outputs": [],
   "source": []
  },
  {
   "cell_type": "markdown",
   "id": "d0138793",
   "metadata": {},
   "source": [
    "## Calculer l'erreur\n",
    "- (1) Créer une dataframe avec valeur prédite et réelle\n",
    "- (2) Drop na\n",
    "- (2) Faire un calcul de MSE, RMSE, MAE"
   ]
  },
  {
   "cell_type": "code",
   "execution_count": null,
   "id": "0ed9e259",
   "metadata": {},
   "outputs": [],
   "source": []
  },
  {
   "cell_type": "code",
   "execution_count": null,
   "id": "0f5e3d3c",
   "metadata": {},
   "outputs": [],
   "source": []
  },
  {
   "cell_type": "markdown",
   "id": "f0249eff",
   "metadata": {},
   "source": [
    "## Calculer gain"
   ]
  },
  {
   "cell_type": "code",
   "execution_count": null,
   "id": "df50627c",
   "metadata": {},
   "outputs": [],
   "source": []
  },
  {
   "cell_type": "code",
   "execution_count": null,
   "id": "b1faee35",
   "metadata": {},
   "outputs": [],
   "source": []
  },
  {
   "cell_type": "code",
   "execution_count": null,
   "id": "9469910d",
   "metadata": {},
   "outputs": [],
   "source": []
  },
  {
   "cell_type": "code",
   "execution_count": null,
   "id": "1508df7a",
   "metadata": {},
   "outputs": [],
   "source": []
  },
  {
   "cell_type": "code",
   "execution_count": null,
   "id": "4741455c",
   "metadata": {},
   "outputs": [],
   "source": []
  },
  {
   "cell_type": "code",
   "execution_count": null,
   "id": "87b7aeb9",
   "metadata": {},
   "outputs": [],
   "source": []
  },
  {
   "cell_type": "code",
   "execution_count": null,
   "id": "072f5848",
   "metadata": {},
   "outputs": [],
   "source": []
  },
  {
   "cell_type": "code",
   "execution_count": null,
   "id": "ad8a35f3",
   "metadata": {},
   "outputs": [],
   "source": []
  }
 ],
 "metadata": {
  "kernelspec": {
   "display_name": "Python 3 (ipykernel)",
   "language": "python",
   "name": "python3"
  },
  "language_info": {
   "codemirror_mode": {
    "name": "ipython",
    "version": 3
   },
   "file_extension": ".py",
   "mimetype": "text/x-python",
   "name": "python",
   "nbconvert_exporter": "python",
   "pygments_lexer": "ipython3",
   "version": "3.9.7"
  },
  "toc": {
   "base_numbering": 1,
   "nav_menu": {},
   "number_sections": true,
   "sideBar": true,
   "skip_h1_title": true,
   "title_cell": "Table of Contents",
   "title_sidebar": "Contents",
   "toc_cell": true,
   "toc_position": {
    "height": "calc(100% - 180px)",
    "left": "10px",
    "top": "150px",
    "width": "325.8541564941406px"
   },
   "toc_section_display": true,
   "toc_window_display": true
  }
 },
 "nbformat": 4,
 "nbformat_minor": 5
}
