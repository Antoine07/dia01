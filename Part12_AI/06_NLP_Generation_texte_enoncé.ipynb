{
 "cells": [
  {
   "cell_type": "markdown",
   "id": "2d7257fe",
   "metadata": {
    "toc": true
   },
   "source": [
    "<h1>Table of Contents<span class=\"tocSkip\"></span></h1>\n",
    "<div class=\"toc\"><ul class=\"toc-item\"><li><span><a href=\"#Import\" data-toc-modified-id=\"Import-1\"><span class=\"toc-item-num\">1&nbsp;&nbsp;</span>Import</a></span></li><li><span><a href=\"#Load-le-texte\" data-toc-modified-id=\"Load-le-texte-2\"><span class=\"toc-item-num\">2&nbsp;&nbsp;</span>Load le texte</a></span></li><li><span><a href=\"#Clean-le-texte\" data-toc-modified-id=\"Clean-le-texte-3\"><span class=\"toc-item-num\">3&nbsp;&nbsp;</span>Clean le texte</a></span></li><li><span><a href=\"#Création-de-séquence\" data-toc-modified-id=\"Création-de-séquence-4\"><span class=\"toc-item-num\">4&nbsp;&nbsp;</span>Création de séquence</a></span></li><li><span><a href=\"#Sauver-ce-fichier\" data-toc-modified-id=\"Sauver-ce-fichier-5\"><span class=\"toc-item-num\">5&nbsp;&nbsp;</span>Sauver ce fichier</a></span></li><li><span><a href=\"#Encoder-les-séquences\" data-toc-modified-id=\"Encoder-les-séquences-6\"><span class=\"toc-item-num\">6&nbsp;&nbsp;</span>Encoder les séquences</a></span></li><li><span><a href=\"#Séparer-les-données\" data-toc-modified-id=\"Séparer-les-données-7\"><span class=\"toc-item-num\">7&nbsp;&nbsp;</span>Séparer les données</a></span></li><li><span><a href=\"#Création-du-model\" data-toc-modified-id=\"Création-du-model-8\"><span class=\"toc-item-num\">8&nbsp;&nbsp;</span>Création du model</a></span></li><li><span><a href=\"#Save-Model\" data-toc-modified-id=\"Save-Model-9\"><span class=\"toc-item-num\">9&nbsp;&nbsp;</span>Save Model</a></span></li><li><span><a href=\"#Use-Model\" data-toc-modified-id=\"Use-Model-10\"><span class=\"toc-item-num\">10&nbsp;&nbsp;</span>Use Model</a></span><ul class=\"toc-item\"><li><span><a href=\"#Prédire\" data-toc-modified-id=\"Prédire-10.1\"><span class=\"toc-item-num\">10.1&nbsp;&nbsp;</span>Prédire</a></span></li><li><span><a href=\"#Fonction-prédire\" data-toc-modified-id=\"Fonction-prédire-10.2\"><span class=\"toc-item-num\">10.2&nbsp;&nbsp;</span>Fonction prédire</a></span></li></ul></li></ul></div>"
   ]
  },
  {
   "cell_type": "markdown",
   "id": "7a8e0680",
   "metadata": {},
   "source": [
    "## Import"
   ]
  },
  {
   "cell_type": "code",
   "execution_count": 1,
   "id": "41f05e68",
   "metadata": {},
   "outputs": [
    {
     "name": "stderr",
     "output_type": "stream",
     "text": [
      "[nltk_data] Downloading package stopwords to /Users/mc/nltk_data...\n",
      "[nltk_data]   Package stopwords is already up-to-date!\n"
     ]
    },
    {
     "data": {
      "text/plain": [
       "True"
      ]
     },
     "execution_count": 1,
     "metadata": {},
     "output_type": "execute_result"
    }
   ],
   "source": [
    "# MLP for the IMDB problem\n",
    "from keras.datasets import imdb\n",
    "from keras.models import Sequential\n",
    "from keras.layers import Dense\n",
    "from keras.layers import Flatten\n",
    "from keras.layers import LSTM\n",
    "from keras.layers.embeddings import Embedding\n",
    "from random import randint\n",
    "from pickle import load\n",
    "from keras.models import load_model\n",
    "from keras.preprocessing.sequence import pad_sequences\n",
    "from keras.preprocessing import sequence\n",
    "import nltk\n",
    "import matplotlib.pyplot as plt\n",
    "from nltk.corpus import stopwords\n",
    "from tensorflow.keras.utils import to_categorical\n",
    "import string\n",
    "import pandas as pd\n",
    "import numpy as np\n",
    "from string import punctuation\n",
    "from os import listdir\n",
    "from collections import Counter\n",
    "from keras.preprocessing.text import Tokenizer\n",
    "from nltk.corpus import stopwords\n",
    "nltk.download('stopwords')"
   ]
  },
  {
   "cell_type": "markdown",
   "id": "b297a87b",
   "metadata": {},
   "source": [
    "## Load le texte\n",
    "- (1) Loader le texte"
   ]
  },
  {
   "cell_type": "code",
   "execution_count": null,
   "id": "806f19dc",
   "metadata": {},
   "outputs": [],
   "source": []
  },
  {
   "cell_type": "code",
   "execution_count": null,
   "id": "fc4ba147",
   "metadata": {},
   "outputs": [],
   "source": []
  },
  {
   "cell_type": "markdown",
   "id": "67571c82",
   "metadata": {},
   "source": [
    "## Clean le texte\n",
    "- (1) Remplacer \"-\" par un espace\n",
    "- (2) Séparer les mots en une liste de string\n",
    "- (3) Enlever la ponctuation (rempalcer par un espace)\n",
    "- (4) Enlever tout ce qui n'est pas alphabetique\n",
    "- (5) Passer toutes les majuscules en minuscules\n",
    "- (6) Print le nombre de Token total, et de Token différent"
   ]
  },
  {
   "cell_type": "code",
   "execution_count": null,
   "id": "5742e6d8",
   "metadata": {},
   "outputs": [],
   "source": []
  },
  {
   "cell_type": "code",
   "execution_count": null,
   "id": "b2df555a",
   "metadata": {},
   "outputs": [],
   "source": []
  },
  {
   "cell_type": "code",
   "execution_count": null,
   "id": "ccac48a2",
   "metadata": {},
   "outputs": [],
   "source": []
  },
  {
   "cell_type": "code",
   "execution_count": null,
   "id": "73bc7638",
   "metadata": {},
   "outputs": [],
   "source": []
  },
  {
   "cell_type": "code",
   "execution_count": null,
   "id": "a44b53ca",
   "metadata": {},
   "outputs": [],
   "source": []
  },
  {
   "cell_type": "markdown",
   "id": "1718f196",
   "metadata": {},
   "source": [
    "## Création de séquence\n",
    "- (1) Séparer le texte en séquence de 51 mots\n",
    "- (2) Print le nombre total de séquence"
   ]
  },
  {
   "cell_type": "code",
   "execution_count": null,
   "id": "aabb172c",
   "metadata": {},
   "outputs": [],
   "source": []
  },
  {
   "cell_type": "markdown",
   "id": "6d9fe47f",
   "metadata": {},
   "source": [
    "## Sauver ce fichier\n",
    "- (1) Sauver le fichier de séquence"
   ]
  },
  {
   "cell_type": "code",
   "execution_count": 261,
   "id": "187e7db0",
   "metadata": {},
   "outputs": [],
   "source": []
  },
  {
   "cell_type": "code",
   "execution_count": 262,
   "id": "2713793b",
   "metadata": {},
   "outputs": [],
   "source": []
  },
  {
   "cell_type": "code",
   "execution_count": 263,
   "id": "cefc7686",
   "metadata": {},
   "outputs": [],
   "source": []
  },
  {
   "cell_type": "markdown",
   "id": "021bfea8",
   "metadata": {},
   "source": [
    "## Encoder les séquences\n",
    "- (1) Tokenize les séquences avec le tokenizers de Keras\n",
    "- (2) Trouver la taille du Vocabulaire et créer une variable de cette valeur + 1"
   ]
  },
  {
   "cell_type": "code",
   "execution_count": 264,
   "id": "5a210504",
   "metadata": {},
   "outputs": [],
   "source": []
  },
  {
   "cell_type": "code",
   "execution_count": 265,
   "id": "827c18df",
   "metadata": {},
   "outputs": [
    {
     "name": "stdout",
     "output_type": "stream",
     "text": [
      "10271\n"
     ]
    }
   ],
   "source": []
  },
  {
   "cell_type": "markdown",
   "id": "4df64a97",
   "metadata": {},
   "source": [
    "## Séparer les données\n",
    "- (1) Créer le X d'entrainement et Y de test\n",
    "    - X prends les 50 premières valeurs\n",
    "    - Y prends la dernière valeur de chaque séquence\n",
    "    \n",
    "- (2) Utiliser la fonction to_categorical pour créer un hot-encoder de Y\n",
    "- (3) Reshape X en 3 dimension (shape[0], shape[1], 1)\n",
    "- (4) Normaliser X"
   ]
  },
  {
   "cell_type": "code",
   "execution_count": null,
   "id": "292bf456",
   "metadata": {},
   "outputs": [],
   "source": []
  },
  {
   "cell_type": "code",
   "execution_count": null,
   "id": "914c2c59",
   "metadata": {},
   "outputs": [],
   "source": []
  },
  {
   "cell_type": "code",
   "execution_count": null,
   "id": "cc5f41fd",
   "metadata": {},
   "outputs": [],
   "source": []
  },
  {
   "cell_type": "code",
   "execution_count": null,
   "id": "268a0362",
   "metadata": {},
   "outputs": [],
   "source": []
  },
  {
   "cell_type": "code",
   "execution_count": null,
   "id": "1a5151a7",
   "metadata": {},
   "outputs": [],
   "source": []
  },
  {
   "cell_type": "code",
   "execution_count": null,
   "id": "34aaefc9",
   "metadata": {},
   "outputs": [],
   "source": []
  },
  {
   "cell_type": "code",
   "execution_count": null,
   "id": "603f8843",
   "metadata": {},
   "outputs": [],
   "source": []
  },
  {
   "cell_type": "code",
   "execution_count": null,
   "id": "916381ae",
   "metadata": {},
   "outputs": [],
   "source": []
  },
  {
   "cell_type": "markdown",
   "id": "7ad794a8",
   "metadata": {},
   "source": [
    "## Création du model\n",
    "- (1) Créer un modèle avec comme première couche LSTM"
   ]
  },
  {
   "cell_type": "code",
   "execution_count": 361,
   "id": "017d0381",
   "metadata": {},
   "outputs": [
    {
     "name": "stdout",
     "output_type": "stream",
     "text": [
      "Num GPUs Available:  1\n"
     ]
    }
   ],
   "source": []
  },
  {
   "cell_type": "code",
   "execution_count": null,
   "id": "91062f03",
   "metadata": {},
   "outputs": [],
   "source": []
  },
  {
   "cell_type": "code",
   "execution_count": null,
   "id": "92617489",
   "metadata": {},
   "outputs": [],
   "source": []
  },
  {
   "cell_type": "code",
   "execution_count": null,
   "id": "9c19c26d",
   "metadata": {},
   "outputs": [],
   "source": []
  },
  {
   "cell_type": "code",
   "execution_count": null,
   "id": "99efd0d0",
   "metadata": {},
   "outputs": [],
   "source": []
  },
  {
   "cell_type": "code",
   "execution_count": null,
   "id": "69e589ea",
   "metadata": {},
   "outputs": [],
   "source": []
  },
  {
   "cell_type": "markdown",
   "id": "8bc9d788",
   "metadata": {},
   "source": [
    "## Save Model\n",
    "- (1) Sauver le modèle"
   ]
  },
  {
   "cell_type": "code",
   "execution_count": 268,
   "id": "18c07958",
   "metadata": {},
   "outputs": [],
   "source": []
  },
  {
   "cell_type": "markdown",
   "id": "646e07e8",
   "metadata": {},
   "source": [
    "## Use Model\n",
    "- (2) Loader le modèle"
   ]
  },
  {
   "cell_type": "code",
   "execution_count": 269,
   "id": "accc1846",
   "metadata": {},
   "outputs": [],
   "source": []
  },
  {
   "cell_type": "code",
   "execution_count": null,
   "id": "fd357bed",
   "metadata": {},
   "outputs": [],
   "source": []
  },
  {
   "cell_type": "markdown",
   "id": "52eb2a55",
   "metadata": {},
   "source": [
    "### Prédire\n",
    "- (1) Selectionner une phrase du texte\n",
    "- (2) Tokenizer cette phrase comme fait avant le training \n",
    "- (3) Prédire la classe en utilisant cette phrase"
   ]
  },
  {
   "cell_type": "code",
   "execution_count": null,
   "id": "39c05d9b",
   "metadata": {},
   "outputs": [],
   "source": []
  },
  {
   "cell_type": "code",
   "execution_count": null,
   "id": "ceac0c84",
   "metadata": {},
   "outputs": [],
   "source": []
  },
  {
   "cell_type": "code",
   "execution_count": null,
   "id": "8e7ed39a",
   "metadata": {},
   "outputs": [],
   "source": []
  },
  {
   "cell_type": "code",
   "execution_count": null,
   "id": "a7d24803",
   "metadata": {},
   "outputs": [],
   "source": []
  },
  {
   "cell_type": "code",
   "execution_count": null,
   "id": "de37673a",
   "metadata": {},
   "outputs": [],
   "source": []
  },
  {
   "cell_type": "code",
   "execution_count": null,
   "id": "fefedc1e",
   "metadata": {},
   "outputs": [],
   "source": []
  },
  {
   "cell_type": "markdown",
   "id": "823f95d9",
   "metadata": {},
   "source": [
    "### Fonction prédire\n",
    "- (1) Créer une fonction qui prédit puis appliquer la sur une phrase \n",
    "- (2) Répliquer la de façon glissante afin de prédire plus d'une phrase"
   ]
  },
  {
   "cell_type": "code",
   "execution_count": null,
   "id": "2d0ea142",
   "metadata": {},
   "outputs": [],
   "source": []
  },
  {
   "cell_type": "code",
   "execution_count": null,
   "id": "bad7c834",
   "metadata": {},
   "outputs": [],
   "source": []
  },
  {
   "cell_type": "code",
   "execution_count": null,
   "id": "b836567b",
   "metadata": {},
   "outputs": [],
   "source": []
  },
  {
   "cell_type": "code",
   "execution_count": null,
   "id": "1b5aa438",
   "metadata": {},
   "outputs": [],
   "source": []
  },
  {
   "cell_type": "code",
   "execution_count": null,
   "id": "23163909",
   "metadata": {},
   "outputs": [],
   "source": []
  }
 ],
 "metadata": {
  "kernelspec": {
   "display_name": "Python 3 (ipykernel)",
   "language": "python",
   "name": "python3"
  },
  "language_info": {
   "codemirror_mode": {
    "name": "ipython",
    "version": 3
   },
   "file_extension": ".py",
   "mimetype": "text/x-python",
   "name": "python",
   "nbconvert_exporter": "python",
   "pygments_lexer": "ipython3",
   "version": "3.9.7"
  },
  "toc": {
   "base_numbering": 1,
   "nav_menu": {},
   "number_sections": true,
   "sideBar": true,
   "skip_h1_title": true,
   "title_cell": "Table of Contents",
   "title_sidebar": "Contents",
   "toc_cell": true,
   "toc_position": {
    "height": "calc(100% - 180px)",
    "left": "10px",
    "top": "150px",
    "width": "354.3958435058594px"
   },
   "toc_section_display": true,
   "toc_window_display": true
  }
 },
 "nbformat": 4,
 "nbformat_minor": 5
}
