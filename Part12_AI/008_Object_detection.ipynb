{
 "cells": [
  {
   "cell_type": "markdown",
   "id": "44648e07",
   "metadata": {
    "toc": true
   },
   "source": [
    "<h1>Table of Contents<span class=\"tocSkip\"></span></h1>\n",
    "<div class=\"toc\"><ul class=\"toc-item\"><li><span><a href=\"#Import\" data-toc-modified-id=\"Import-1\"><span class=\"toc-item-num\">1&nbsp;&nbsp;</span>Import</a></span></li><li><span><a href=\"#Creation-d'image\" data-toc-modified-id=\"Creation-d'image-2\"><span class=\"toc-item-num\">2&nbsp;&nbsp;</span>Creation d'image</a></span></li><li><span><a href=\"#Reshape-et-normalize-chaque-image\" data-toc-modified-id=\"Reshape-et-normalize-chaque-image-3\"><span class=\"toc-item-num\">3&nbsp;&nbsp;</span>Reshape et normalize chaque image</a></span></li><li><span><a href=\"#Split-training-et-test\" data-toc-modified-id=\"Split-training-et-test-4\"><span class=\"toc-item-num\">4&nbsp;&nbsp;</span>Split training et test</a></span></li><li><span><a href=\"#Creation-de-model\" data-toc-modified-id=\"Creation-de-model-5\"><span class=\"toc-item-num\">5&nbsp;&nbsp;</span>Creation de model</a></span></li><li><span><a href=\"#IOU\" data-toc-modified-id=\"IOU-6\"><span class=\"toc-item-num\">6&nbsp;&nbsp;</span>IOU</a></span></li><li><span><a href=\"#Creation-Image\" data-toc-modified-id=\"Creation-Image-7\"><span class=\"toc-item-num\">7&nbsp;&nbsp;</span>Creation Image</a></span></li></ul></div>"
   ]
  },
  {
   "cell_type": "markdown",
   "id": "0aa03b17",
   "metadata": {},
   "source": [
    "## Import"
   ]
  },
  {
   "cell_type": "code",
   "execution_count": 77,
   "id": "dec79b12",
   "metadata": {},
   "outputs": [],
   "source": [
    "import numpy as np\n",
    "import matplotlib.pyplot as plt\n",
    "import matplotlib\n",
    "%matplotlib inline\n",
    "plt.rcParams[\"figure.figsize\"] = (20,10)\n",
    "plt.rcParams[\"font.size\"] = \"15\""
   ]
  },
  {
   "cell_type": "markdown",
   "id": "d4834ffa",
   "metadata": {},
   "source": [
    "# Simple rectangle\n",
    "## Creation d'image\n",
    "- (1) Créer des rectangles de différentes formes formé 1 dans une boxe de 0 de taille 8X8 \n",
    "- "
   ]
  },
  {
   "cell_type": "code",
   "execution_count": null,
   "id": "5e33f135",
   "metadata": {},
   "outputs": [],
   "source": []
  },
  {
   "cell_type": "code",
   "execution_count": null,
   "id": "6af260ce",
   "metadata": {},
   "outputs": [],
   "source": []
  },
  {
   "cell_type": "code",
   "execution_count": 83,
   "id": "dd81269c",
   "metadata": {},
   "outputs": [
    {
     "data": {
      "text/plain": [
       "((50000, 8, 8), (50000, 1, 4))"
      ]
     },
     "execution_count": 83,
     "metadata": {},
     "output_type": "execute_result"
    }
   ],
   "source": [
    "# Create images with random rectangles and bounding boxes. \n",
    "num_imgs = 50000\n",
    "\n",
    "img_size = 8\n",
    "min_object_size = 1\n",
    "max_object_size = 4\n",
    "num_objects = 1\n",
    "\n",
    "bboxes = np.zeros((num_imgs, num_objects, 4))\n",
    "imgs = np.zeros((num_imgs, img_size, img_size))  # set background to 0\n",
    "\n",
    "for i_img in range(num_imgs):\n",
    "    for i_object in range(num_objects):\n",
    "        w, h = np.random.randint(min_object_size, max_object_size, size=2)\n",
    "        x = np.random.randint(0, img_size - w)\n",
    "        y = np.random.randint(0, img_size - h)\n",
    "        imgs[i_img, x:x+w, y:y+h] = 1.  # set rectangle to 1\n",
    "        bboxes[i_img, i_object] = [x, y, w, h]\n",
    "        \n",
    "imgs.shape, bboxes.shape"
   ]
  },
  {
   "cell_type": "code",
   "execution_count": null,
   "id": "7d0347b3",
   "metadata": {},
   "outputs": [],
   "source": []
  },
  {
   "cell_type": "code",
   "execution_count": 89,
   "id": "6a0c2974",
   "metadata": {},
   "outputs": [
    {
     "data": {
      "image/png": "[encoded data removed]",
      "text/plain": [
       "<Figure size 1440x720 with 1 Axes>"
      ]
     },
     "metadata": {
      "needs_background": "light"
     },
     "output_type": "display_data"
    }
   ],
   "source": [
    "plt.imshow(imgs[0,:,:], interpolation='nearest')\n",
    "plt.show()"
   ]
  },
  {
   "cell_type": "code",
   "execution_count": 85,
   "id": "da55aa30",
   "metadata": {},
   "outputs": [
    {
     "data": {
      "text/plain": [
       "array([[3., 1., 3., 1.]])"
      ]
     },
     "execution_count": 85,
     "metadata": {},
     "output_type": "execute_result"
    }
   ],
   "source": [
    "bboxes[0,:,:]"
   ]
  },
  {
   "cell_type": "code",
   "execution_count": 26,
   "id": "4ec5048d",
   "metadata": {},
   "outputs": [
    {
     "data": {
      "image/png": "[encoded data removed]",
      "text/plain": [
       "<Figure size 1440x720 with 4 Axes>"
      ]
     },
     "metadata": {
      "needs_background": "light"
     },
     "output_type": "display_data"
    }
   ],
   "source": [
    "i = 0\n",
    "\n",
    "for i in range(0,4):\n",
    "    plt.subplot(2,2,(i+1))\n",
    "    plt.imshow(imgs[i].T, cmap='Greys', interpolation='none', origin='lower', extent=[0, img_size, 0, img_size])\n",
    "    for bbox in bboxes[i]:\n",
    "        plt.gca().add_patch(matplotlib.patches.Rectangle((bbox[0], bbox[1]), bbox[2], bbox[3], ec='r', fc='none'))"
   ]
  },
  {
   "cell_type": "markdown",
   "id": "d8153530",
   "metadata": {},
   "source": [
    "## Reshape et normalize chaque image"
   ]
  },
  {
   "cell_type": "code",
   "execution_count": 27,
   "id": "749b8709",
   "metadata": {},
   "outputs": [
    {
     "data": {
      "text/plain": [
       "((50000, 64), 5.785150136716766e-17, 1.0000000000000007)"
      ]
     },
     "execution_count": 27,
     "metadata": {},
     "output_type": "execute_result"
    }
   ],
   "source": [
    "# Reshape and normalize the image data to mean 0 and std 1. \n",
    "X = (imgs.reshape(num_imgs, -1) - np.mean(imgs)) / np.std(imgs)\n",
    "X.shape, np.mean(X), np.std(X)"
   ]
  },
  {
   "cell_type": "code",
   "execution_count": 28,
   "id": "11af44bc",
   "metadata": {},
   "outputs": [
    {
     "data": {
      "text/plain": [
       "((50000, 4), 0.280928125, 0.17521352461777706)"
      ]
     },
     "execution_count": 28,
     "metadata": {},
     "output_type": "execute_result"
    }
   ],
   "source": [
    "# Normalize x, y, w, h by img_size, so that all values are between 0 and 1.\n",
    "# Important: Do not shift to negative values (e.g. by setting to mean 0), because the IOU calculation needs positive w and h.\n",
    "y = bboxes.reshape(num_imgs, -1) / img_size\n",
    "y.shape, np.mean(y), np.std(y)"
   ]
  },
  {
   "cell_type": "markdown",
   "id": "3905c244",
   "metadata": {},
   "source": [
    "## Split training et test"
   ]
  },
  {
   "cell_type": "code",
   "execution_count": 29,
   "id": "9e714ba7",
   "metadata": {},
   "outputs": [],
   "source": [
    "# Split training and test.\n",
    "i = int(0.8 * num_imgs)\n",
    "train_X = X[:i]\n",
    "test_X = X[i:]\n",
    "train_y = y[:i]\n",
    "test_y = y[i:]\n",
    "test_imgs = imgs[i:]\n",
    "test_bboxes = bboxes[i:]"
   ]
  },
  {
   "cell_type": "markdown",
   "id": "df119ab4",
   "metadata": {},
   "source": [
    "## Creation de model"
   ]
  },
  {
   "cell_type": "code",
   "execution_count": 32,
   "id": "133ed1e7",
   "metadata": {},
   "outputs": [],
   "source": [
    "# Build the model.\n",
    "from keras.models import Sequential\n",
    "from keras.layers import Dense, Activation, Dropout\n",
    "from tensorflow.keras.optimizers import SGD\n",
    "model = Sequential([\n",
    "        Dense(200, input_dim=X.shape[-1]), \n",
    "        Activation('relu'), \n",
    "        Dropout(0.2), \n",
    "        Dense(200),\n",
    "        Dense(y.shape[-1])\n",
    "    ])\n",
    "model.compile('adadelta', 'mse')\n"
   ]
  },
  {
   "cell_type": "code",
   "execution_count": 33,
   "id": "5d2dfb87",
   "metadata": {},
   "outputs": [
    {
     "name": "stdout",
     "output_type": "stream",
     "text": [
      "Epoch 1/50\n"
     ]
    },
    {
     "name": "stderr",
     "output_type": "stream",
     "text": [
      "2022-05-29 11:56:16.806143: I tensorflow/core/grappler/optimizers/custom_graph_optimizer_registry.cc:113] Plugin optimizer for device_type GPU is enabled.\n",
      "2022-05-29 11:56:20.377701: I tensorflow/core/grappler/optimizers/custom_graph_optimizer_registry.cc:113] Plugin optimizer for device_type GPU is enabled.\n"
     ]
    },
    {
     "name": "stdout",
     "output_type": "stream",
     "text": [
      "1250/1250 - 4s - loss: 0.3865 - val_loss: 0.2069 - 4s/epoch - 3ms/step\n",
      "Epoch 2/50\n",
      "1250/1250 - 4s - loss: 0.2700 - val_loss: 0.1420 - 4s/epoch - 3ms/step\n",
      "Epoch 3/50\n",
      "1250/1250 - 4s - loss: 0.2100 - val_loss: 0.1024 - 4s/epoch - 3ms/step\n",
      "Epoch 4/50\n",
      "1250/1250 - 4s - loss: 0.1707 - val_loss: 0.0774 - 4s/epoch - 3ms/step\n",
      "Epoch 5/50\n",
      "1250/1250 - 4s - loss: 0.1425 - val_loss: 0.0608 - 4s/epoch - 3ms/step\n",
      "Epoch 6/50\n",
      "1250/1250 - 4s - loss: 0.1220 - val_loss: 0.0494 - 4s/epoch - 3ms/step\n",
      "Epoch 7/50\n",
      "1250/1250 - 4s - loss: 0.1061 - val_loss: 0.0413 - 4s/epoch - 3ms/step\n",
      "Epoch 8/50\n",
      "1250/1250 - 4s - loss: 0.0932 - val_loss: 0.0354 - 4s/epoch - 3ms/step\n",
      "Epoch 9/50\n",
      "1250/1250 - 4s - loss: 0.0836 - val_loss: 0.0309 - 4s/epoch - 3ms/step\n",
      "Epoch 10/50\n",
      "1250/1250 - 4s - loss: 0.0745 - val_loss: 0.0273 - 4s/epoch - 3ms/step\n",
      "Epoch 11/50\n",
      "1250/1250 - 4s - loss: 0.0675 - val_loss: 0.0244 - 4s/epoch - 3ms/step\n",
      "Epoch 12/50\n",
      "1250/1250 - 4s - loss: 0.0616 - val_loss: 0.0220 - 4s/epoch - 3ms/step\n",
      "Epoch 13/50\n",
      "1250/1250 - 4s - loss: 0.0564 - val_loss: 0.0200 - 4s/epoch - 3ms/step\n",
      "Epoch 14/50\n",
      "1250/1250 - 4s - loss: 0.0518 - val_loss: 0.0182 - 4s/epoch - 3ms/step\n",
      "Epoch 15/50\n",
      "1250/1250 - 5s - loss: 0.0471 - val_loss: 0.0167 - 5s/epoch - 4ms/step\n",
      "Epoch 16/50\n",
      "1250/1250 - 4s - loss: 0.0438 - val_loss: 0.0154 - 4s/epoch - 4ms/step\n",
      "Epoch 17/50\n",
      "1250/1250 - 4s - loss: 0.0404 - val_loss: 0.0142 - 4s/epoch - 3ms/step\n",
      "Epoch 18/50\n",
      "1250/1250 - 4s - loss: 0.0372 - val_loss: 0.0132 - 4s/epoch - 3ms/step\n",
      "Epoch 19/50\n",
      "1250/1250 - 4s - loss: 0.0347 - val_loss: 0.0123 - 4s/epoch - 3ms/step\n",
      "Epoch 20/50\n",
      "1250/1250 - 4s - loss: 0.0322 - val_loss: 0.0115 - 4s/epoch - 3ms/step\n",
      "Epoch 21/50\n",
      "1250/1250 - 4s - loss: 0.0302 - val_loss: 0.0108 - 4s/epoch - 3ms/step\n",
      "Epoch 22/50\n",
      "1250/1250 - 4s - loss: 0.0279 - val_loss: 0.0102 - 4s/epoch - 3ms/step\n",
      "Epoch 23/50\n",
      "1250/1250 - 4s - loss: 0.0262 - val_loss: 0.0095 - 4s/epoch - 3ms/step\n",
      "Epoch 24/50\n",
      "1250/1250 - 4s - loss: 0.0246 - val_loss: 0.0091 - 4s/epoch - 3ms/step\n",
      "Epoch 25/50\n",
      "1250/1250 - 4s - loss: 0.0230 - val_loss: 0.0086 - 4s/epoch - 3ms/step\n",
      "Epoch 26/50\n",
      "1250/1250 - 4s - loss: 0.0217 - val_loss: 0.0082 - 4s/epoch - 3ms/step\n",
      "Epoch 27/50\n",
      "1250/1250 - 4s - loss: 0.0204 - val_loss: 0.0078 - 4s/epoch - 3ms/step\n",
      "Epoch 28/50\n",
      "1250/1250 - 4s - loss: 0.0192 - val_loss: 0.0074 - 4s/epoch - 3ms/step\n",
      "Epoch 29/50\n",
      "1250/1250 - 4s - loss: 0.0181 - val_loss: 0.0071 - 4s/epoch - 3ms/step\n",
      "Epoch 30/50\n",
      "1250/1250 - 4s - loss: 0.0173 - val_loss: 0.0068 - 4s/epoch - 3ms/step\n",
      "Epoch 31/50\n",
      "1250/1250 - 4s - loss: 0.0163 - val_loss: 0.0065 - 4s/epoch - 3ms/step\n",
      "Epoch 32/50\n",
      "1250/1250 - 4s - loss: 0.0155 - val_loss: 0.0063 - 4s/epoch - 3ms/step\n",
      "Epoch 33/50\n",
      "1250/1250 - 4s - loss: 0.0147 - val_loss: 0.0061 - 4s/epoch - 3ms/step\n",
      "Epoch 34/50\n",
      "1250/1250 - 4s - loss: 0.0140 - val_loss: 0.0059 - 4s/epoch - 3ms/step\n",
      "Epoch 35/50\n",
      "1250/1250 - 4s - loss: 0.0135 - val_loss: 0.0057 - 4s/epoch - 3ms/step\n",
      "Epoch 36/50\n",
      "1250/1250 - 4s - loss: 0.0127 - val_loss: 0.0056 - 4s/epoch - 3ms/step\n",
      "Epoch 37/50\n",
      "1250/1250 - 4s - loss: 0.0123 - val_loss: 0.0054 - 4s/epoch - 3ms/step\n",
      "Epoch 38/50\n",
      "1250/1250 - 4s - loss: 0.0118 - val_loss: 0.0053 - 4s/epoch - 3ms/step\n",
      "Epoch 39/50\n",
      "1250/1250 - 4s - loss: 0.0113 - val_loss: 0.0051 - 4s/epoch - 3ms/step\n",
      "Epoch 40/50\n",
      "1250/1250 - 4s - loss: 0.0109 - val_loss: 0.0050 - 4s/epoch - 3ms/step\n",
      "Epoch 41/50\n",
      "1250/1250 - 4s - loss: 0.0105 - val_loss: 0.0049 - 4s/epoch - 3ms/step\n",
      "Epoch 42/50\n",
      "1250/1250 - 4s - loss: 0.0102 - val_loss: 0.0048 - 4s/epoch - 3ms/step\n",
      "Epoch 43/50\n",
      "1250/1250 - 4s - loss: 0.0098 - val_loss: 0.0047 - 4s/epoch - 3ms/step\n",
      "Epoch 44/50\n",
      "1250/1250 - 5s - loss: 0.0095 - val_loss: 0.0046 - 5s/epoch - 4ms/step\n",
      "Epoch 45/50\n",
      "1250/1250 - 4s - loss: 0.0093 - val_loss: 0.0045 - 4s/epoch - 3ms/step\n",
      "Epoch 46/50\n",
      "1250/1250 - 4s - loss: 0.0090 - val_loss: 0.0044 - 4s/epoch - 3ms/step\n",
      "Epoch 47/50\n",
      "1250/1250 - 4s - loss: 0.0087 - val_loss: 0.0044 - 4s/epoch - 3ms/step\n",
      "Epoch 48/50\n",
      "1250/1250 - 4s - loss: 0.0085 - val_loss: 0.0043 - 4s/epoch - 3ms/step\n",
      "Epoch 49/50\n",
      "1250/1250 - 4s - loss: 0.0083 - val_loss: 0.0043 - 4s/epoch - 3ms/step\n",
      "Epoch 50/50\n",
      "1250/1250 - 4s - loss: 0.0081 - val_loss: 0.0042 - 4s/epoch - 3ms/step\n"
     ]
    },
    {
     "data": {
      "text/plain": [
       "<keras.callbacks.History at 0x288eddc70>"
      ]
     },
     "execution_count": 33,
     "metadata": {},
     "output_type": "execute_result"
    }
   ],
   "source": [
    "# Train.\n",
    "model.fit(train_X, train_y, epochs=50, validation_data=(test_X, test_y), verbose=2)"
   ]
  },
  {
   "cell_type": "code",
   "execution_count": 34,
   "id": "39f68e4b",
   "metadata": {},
   "outputs": [
    {
     "name": "stderr",
     "output_type": "stream",
     "text": [
      "2022-05-29 11:59:38.686165: I tensorflow/core/grappler/optimizers/custom_graph_optimizer_registry.cc:113] Plugin optimizer for device_type GPU is enabled.\n"
     ]
    },
    {
     "data": {
      "text/plain": [
       "(10000, 1, 4)"
      ]
     },
     "execution_count": 34,
     "metadata": {},
     "output_type": "execute_result"
    }
   ],
   "source": [
    "# Predict bounding boxes on the test images.\n",
    "pred_y = model.predict(test_X)\n",
    "pred_bboxes = pred_y * img_size\n",
    "pred_bboxes = pred_bboxes.reshape(len(pred_bboxes), num_objects, -1)\n",
    "pred_bboxes.shape\n"
   ]
  },
  {
   "cell_type": "markdown",
   "id": "cbb8fdb0",
   "metadata": {},
   "source": [
    "## IOU"
   ]
  },
  {
   "cell_type": "code",
   "execution_count": 35,
   "id": "4a16ae46",
   "metadata": {},
   "outputs": [],
   "source": [
    "def IOU(bbox1, bbox2):\n",
    "    '''Calculate overlap between two bounding boxes [x, y, w, h] as the area of intersection over the area of unity'''\n",
    "    x1, y1, w1, h1 = bbox1[0], bbox1[1], bbox1[2], bbox1[3]\n",
    "    x2, y2, w2, h2 = bbox2[0], bbox2[1], bbox2[2], bbox2[3]\n",
    "\n",
    "    w_I = min(x1 + w1, x2 + w2) - max(x1, x2)\n",
    "    h_I = min(y1 + h1, y2 + h2) - max(y1, y2)\n",
    "    if w_I <= 0 or h_I <= 0:  # no overlap\n",
    "        return 0.\n",
    "    I = w_I * h_I\n",
    "\n",
    "    U = w1 * h1 + w2 * h2 - I\n",
    "\n",
    "    return I / U"
   ]
  },
  {
   "cell_type": "code",
   "execution_count": 36,
   "id": "b528adda",
   "metadata": {},
   "outputs": [
    {
     "data": {
      "image/png": "[encoded data removed]",
      "text/plain": [
       "<Figure size 864x216 with 4 Axes>"
      ]
     },
     "metadata": {
      "needs_background": "light"
     },
     "output_type": "display_data"
    }
   ],
   "source": [
    "# Show a few images and predicted bounding boxes from the test dataset. \n",
    "plt.figure(figsize=(12, 3))\n",
    "for i_subplot in range(1, 5):\n",
    "    plt.subplot(1, 4, i_subplot)\n",
    "    i = np.random.randint(len(test_imgs))\n",
    "    plt.imshow(test_imgs[i].T, cmap='Greys', interpolation='none', origin='lower', extent=[0, img_size, 0, img_size])\n",
    "    for pred_bbox, exp_bbox in zip(pred_bboxes[i], test_bboxes[i]):\n",
    "        plt.gca().add_patch(matplotlib.patches.Rectangle((pred_bbox[0], pred_bbox[1]), pred_bbox[2], pred_bbox[3], ec='r', fc='none'))\n",
    "        plt.annotate('IOU: {:.2f}'.format(IOU(pred_bbox, exp_bbox)), (pred_bbox[0], pred_bbox[1]+pred_bbox[3]+0.2), color='r')\n",
    "        \n",
    "# plt.savefig('plots/bw-single-rectangle_prediction.png', dpi=300)\n"
   ]
  },
  {
   "cell_type": "code",
   "execution_count": null,
   "id": "fd7e986f",
   "metadata": {},
   "outputs": [],
   "source": []
  },
  {
   "cell_type": "code",
   "execution_count": 37,
   "id": "7e3dd779",
   "metadata": {},
   "outputs": [
    {
     "data": {
      "text/plain": [
       "0.4270023905542659"
      ]
     },
     "execution_count": 37,
     "metadata": {},
     "output_type": "execute_result"
    }
   ],
   "source": [
    "# Calculate the mean IOU (overlap) between the predicted and expected bounding boxes on the test dataset. \n",
    "summed_IOU = 0.\n",
    "for pred_bbox, test_bbox in zip(pred_bboxes.reshape(-1, 4), test_bboxes.reshape(-1, 4)):\n",
    "    summed_IOU += IOU(pred_bbox, test_bbox)\n",
    "mean_IOU = summed_IOU / len(pred_bboxes)\n",
    "mean_IOU"
   ]
  },
  {
   "cell_type": "markdown",
   "id": "21083e26",
   "metadata": {},
   "source": [
    "# Multiple Form"
   ]
  },
  {
   "cell_type": "markdown",
   "id": "4c84f917",
   "metadata": {},
   "source": [
    "## Creation Image"
   ]
  },
  {
   "cell_type": "code",
   "execution_count": 46,
   "id": "62fa9532",
   "metadata": {},
   "outputs": [
    {
     "data": {
      "text/plain": [
       "((50000, 16, 16), (50000, 2, 4))"
      ]
     },
     "execution_count": 46,
     "metadata": {},
     "output_type": "execute_result"
    }
   ],
   "source": [
    "num_imgs = 50000\n",
    "\n",
    "img_size = 16\n",
    "min_rect_size = 3\n",
    "max_rect_size = 8\n",
    "num_objects = 2\n",
    "\n",
    "bboxes = np.zeros((num_imgs, num_objects, 4))\n",
    "imgs = np.zeros((num_imgs, img_size, img_size))\n",
    "shapes = np.zeros((num_imgs, num_objects, 1))\n",
    "\n",
    "for i_img in range(num_imgs):\n",
    "    for i_object in range(num_objects):\n",
    "        if np.random.choice([True, False]):\n",
    "            width, height = np.random.randint(min_rect_size, max_rect_size, size=2)\n",
    "            x = np.random.randint(0, img_size - width)\n",
    "            y = np.random.randint(0, img_size - height)\n",
    "            imgs[i_img, x:x+width, y:y+height] = 1.\n",
    "            bboxes[i_img, i_object] = [x, y, width, height]\n",
    "            shapes[i_img, i_object] = [0]\n",
    "        else:\n",
    "            size = np.random.randint(min_rect_size, max_rect_size)\n",
    "            x, y = np.random.randint(0, img_size - size, size=2)\n",
    "            mask = np.tril_indices(size)\n",
    "            imgs[i_img, x + mask[0], y + mask[1]] = 1.\n",
    "            bboxes[i_img, i_object] = [x, y, size, size]\n",
    "            shapes[i_img, i_object] = [1]\n",
    "            \n",
    "imgs.shape, bboxes.shape"
   ]
  },
  {
   "cell_type": "code",
   "execution_count": 47,
   "id": "a6c2d39d",
   "metadata": {},
   "outputs": [
    {
     "data": {
      "image/png": "[encoded data removed]",
      "text/plain": [
       "<Figure size 1440x720 with 1 Axes>"
      ]
     },
     "metadata": {
      "needs_background": "light"
     },
     "output_type": "display_data"
    }
   ],
   "source": [
    "i = 0\n",
    "# TODO: Why does the array have to be transposed?\n",
    "plt.imshow(imgs[i].T, cmap='Greys', interpolation='none', origin='lower', extent=[0, img_size, 0, img_size])\n",
    "for bbox, shape in zip(bboxes[i], shapes[i]):\n",
    "    plt.gca().add_patch(matplotlib.patches.Rectangle((bbox[0], bbox[1]), bbox[2], bbox[3], ec='r' if shape[0] == 0 else 'y', fc='none'))"
   ]
  },
  {
   "cell_type": "code",
   "execution_count": 48,
   "id": "e5d97fd0",
   "metadata": {},
   "outputs": [
    {
     "data": {
      "text/plain": [
       "((50000, 256), 7.482903185973556e-17, 0.9999999999999991)"
      ]
     },
     "execution_count": 48,
     "metadata": {},
     "output_type": "execute_result"
    }
   ],
   "source": [
    "X = (imgs.reshape(num_imgs, -1) - np.mean(imgs)) / np.std(imgs)\n",
    "X.shape, np.mean(X), np.std(X)"
   ]
  },
  {
   "cell_type": "code",
   "execution_count": 49,
   "id": "4a500a40",
   "metadata": {},
   "outputs": [
    {
     "data": {
      "text/plain": [
       "(50000, 10)"
      ]
     },
     "execution_count": 49,
     "metadata": {},
     "output_type": "execute_result"
    }
   ],
   "source": [
    "y = np.concatenate([bboxes / img_size, shapes], axis=-1).reshape(num_imgs, -1)\n",
    "y.shape"
   ]
  },
  {
   "cell_type": "code",
   "execution_count": 58,
   "id": "8178bf44",
   "metadata": {},
   "outputs": [],
   "source": [
    "i = int(0.8 * num_imgs)\n",
    "train_X = X[:i]\n",
    "test_X = X[i:]\n",
    "train_y = y[:i]\n",
    "test_y = y[i:]\n",
    "test_imgs = imgs[i:]\n",
    "test_bboxes = bboxes[i:]"
   ]
  },
  {
   "cell_type": "code",
   "execution_count": 75,
   "id": "aa3c1e07",
   "metadata": {},
   "outputs": [],
   "source": [
    "from keras.models import Sequential\n",
    "from keras.layers import Dense, Activation, Dropout\n",
    "from tensorflow.keras.optimizers import SGD\n",
    "\n",
    "model = Sequential([\n",
    "        Dense(256, input_dim=X.shape[-1]), \n",
    "        Activation('relu'), \n",
    "        Dropout(0.4), \n",
    "        Dense(256, Activation('relu')), \n",
    "        Dropout(0.4), \n",
    "        Dense(256, Activation('relu')), \n",
    "        Dense(y.shape[-1])\n",
    "    ])\n",
    "model.compile('adadelta', 'mse')"
   ]
  },
  {
   "cell_type": "code",
   "execution_count": 76,
   "id": "82e8c135",
   "metadata": {},
   "outputs": [
    {
     "name": "stdout",
     "output_type": "stream",
     "text": [
      "Epoch 0\n"
     ]
    },
    {
     "name": "stderr",
     "output_type": "stream",
     "text": [
      "2022-05-29 12:27:40.489389: I tensorflow/core/grappler/optimizers/custom_graph_optimizer_registry.cc:113] Plugin optimizer for device_type GPU is enabled.\n",
      "2022-05-29 12:27:46.064350: I tensorflow/core/grappler/optimizers/custom_graph_optimizer_registry.cc:113] Plugin optimizer for device_type GPU is enabled.\n"
     ]
    },
    {
     "name": "stdout",
     "output_type": "stream",
     "text": [
      "1250/1250 - 6s - loss: 0.5657 - val_loss: 0.1801 - 6s/epoch - 5ms/step\n"
     ]
    },
    {
     "name": "stderr",
     "output_type": "stream",
     "text": [
      "2022-05-29 12:27:46.909993: I tensorflow/core/grappler/optimizers/custom_graph_optimizer_registry.cc:113] Plugin optimizer for device_type GPU is enabled.\n"
     ]
    },
    {
     "name": "stdout",
     "output_type": "stream",
     "text": [
      "Flipped 50.2575 % of all elements\n",
      "Mean IOU: 0.02603112512177118\n",
      "Mean dist: 0.4220945871701916\n",
      "Mean mse: 0.11544943600643434\n",
      "Epoch 1\n",
      "1250/1250 - 5s - loss: 0.3547 - val_loss: 0.1458 - 5s/epoch - 4ms/step\n",
      "Flipped 15.67 % of all elements\n",
      "Mean IOU: 0.05015996199862118\n",
      "Mean dist: 0.35628173217751163\n",
      "Mean mse: 0.08044009125809516\n",
      "Epoch 2\n",
      "1250/1250 - 6s - loss: 0.2963 - val_loss: 0.1342 - 6s/epoch - 4ms/step\n",
      "Flipped 5.6125 % of all elements\n",
      "Mean IOU: 0.058823692429958586\n",
      "Mean dist: 0.3331819762423467\n",
      "Mean mse: 0.07030607314311997\n",
      "Epoch 3\n",
      "1250/1250 - 5s - loss: 0.2576 - val_loss: 0.1265 - 5s/epoch - 4ms/step\n",
      "Flipped 5.09 % of all elements\n",
      "Mean IOU: 0.06394549636796766\n",
      "Mean dist: 0.318393288412164\n",
      "Mean mse: 0.06375983810531459\n",
      "Epoch 4\n",
      "1250/1250 - 5s - loss: 0.2299 - val_loss: 0.1207 - 5s/epoch - 4ms/step\n",
      "Flipped 4.3425 % of all elements\n",
      "Mean IOU: 0.0676995557833442\n",
      "Mean dist: 0.30768127026896025\n",
      "Mean mse: 0.05909146887236983\n",
      "Epoch 5\n",
      "1250/1250 - 6s - loss: 0.2086 - val_loss: 0.1162 - 6s/epoch - 4ms/step\n",
      "Flipped 3.92 % of all elements\n",
      "Mean IOU: 0.07032842779041666\n",
      "Mean dist: 0.2986766222954659\n",
      "Mean mse: 0.05538256239837212\n",
      "Epoch 6\n",
      "1250/1250 - 5s - loss: 0.1910 - val_loss: 0.1128 - 5s/epoch - 4ms/step\n",
      "Flipped 3.855 % of all elements\n",
      "Mean IOU: 0.070988002779772\n",
      "Mean dist: 0.29369541013123107\n",
      "Mean mse: 0.05305611307971286\n",
      "Epoch 7\n",
      "1250/1250 - 5s - loss: 0.1771 - val_loss: 0.1098 - 5s/epoch - 4ms/step\n",
      "Flipped 3.2075 % of all elements\n",
      "Mean IOU: 0.07204348852057225\n",
      "Mean dist: 0.28919151470651466\n",
      "Mean mse: 0.05087207944845832\n",
      "Epoch 8\n",
      "1250/1250 - 7s - loss: 0.1665 - val_loss: 0.1074 - 7s/epoch - 5ms/step\n",
      "Flipped 2.9825 % of all elements\n",
      "Mean IOU: 0.07281570862830845\n",
      "Mean dist: 0.2856682300057806\n",
      "Mean mse: 0.04902396611617323\n",
      "Epoch 9\n",
      "1250/1250 - 9s - loss: 0.1565 - val_loss: 0.1053 - 9s/epoch - 7ms/step\n",
      "Flipped 2.69 % of all elements\n",
      "Mean IOU: 0.07333305612509798\n",
      "Mean dist: 0.28298464961009234\n",
      "Mean mse: 0.0475697780656934\n",
      "Epoch 10\n",
      "1250/1250 - 8s - loss: 0.1492 - val_loss: 0.1035 - 8s/epoch - 6ms/step\n",
      "Flipped 2.58 % of all elements\n",
      "Mean IOU: 0.07336143394666371\n",
      "Mean dist: 0.2810058210491839\n",
      "Mean mse: 0.04641222771087885\n",
      "Epoch 11\n",
      "1250/1250 - 5s - loss: 0.1425 - val_loss: 0.1022 - 5s/epoch - 4ms/step\n",
      "Flipped 2.5825 % of all elements\n",
      "Mean IOU: 0.07258630118312805\n",
      "Mean dist: 0.28036154995237705\n",
      "Mean mse: 0.045661994981535864\n",
      "Epoch 12\n",
      "1250/1250 - 5s - loss: 0.1364 - val_loss: 0.1010 - 5s/epoch - 4ms/step\n",
      "Flipped 2.0650000000000004 % of all elements\n",
      "Mean IOU: 0.07198433357989466\n",
      "Mean dist: 0.2788648686487439\n",
      "Mean mse: 0.04492246858779889\n",
      "Epoch 13\n",
      "1250/1250 - 5s - loss: 0.1313 - val_loss: 0.0996 - 5s/epoch - 4ms/step\n",
      "Flipped 1.8950000000000002 % of all elements\n",
      "Mean IOU: 0.07216729633041545\n",
      "Mean dist: 0.2774499476829757\n",
      "Mean mse: 0.04401551201249208\n",
      "Epoch 14\n",
      "1250/1250 - 5s - loss: 0.1264 - val_loss: 0.0987 - 5s/epoch - 4ms/step\n",
      "Flipped 1.8475 % of all elements\n",
      "Mean IOU: 0.07160292838571714\n",
      "Mean dist: 0.27707043259346475\n",
      "Mean mse: 0.04352594721092144\n",
      "Epoch 15\n",
      "1250/1250 - 5s - loss: 0.1225 - val_loss: 0.0978 - 5s/epoch - 4ms/step\n",
      "Flipped 1.73 % of all elements\n",
      "Mean IOU: 0.07128691375054379\n",
      "Mean dist: 0.2765202138858128\n",
      "Mean mse: 0.04296150365089843\n",
      "Epoch 16\n",
      "1250/1250 - 5s - loss: 0.1193 - val_loss: 0.0970 - 5s/epoch - 4ms/step\n",
      "Flipped 1.5675000000000001 % of all elements\n",
      "Mean IOU: 0.07083724907362249\n",
      "Mean dist: 0.2756685355207826\n",
      "Mean mse: 0.042469762114245\n",
      "Epoch 17\n",
      "1250/1250 - 5s - loss: 0.1160 - val_loss: 0.0964 - 5s/epoch - 4ms/step\n",
      "Flipped 1.6125 % of all elements\n",
      "Mean IOU: 0.07002579434906178\n",
      "Mean dist: 0.27472893052078384\n",
      "Mean mse: 0.042082930211033605\n",
      "Epoch 18\n",
      "1250/1250 - 5s - loss: 0.1132 - val_loss: 0.0954 - 5s/epoch - 4ms/step\n",
      "Flipped 1.555 % of all elements\n",
      "Mean IOU: 0.06977084051748075\n",
      "Mean dist: 0.2739489528886059\n",
      "Mean mse: 0.04156222151893143\n",
      "Epoch 19\n",
      "1250/1250 - 6s - loss: 0.1104 - val_loss: 0.0948 - 6s/epoch - 4ms/step\n",
      "Flipped 1.3625 % of all elements\n",
      "Mean IOU: 0.06940437372153928\n",
      "Mean dist: 0.2733949169710752\n",
      "Mean mse: 0.0412685094028536\n",
      "Epoch 20\n",
      "1250/1250 - 5s - loss: 0.1085 - val_loss: 0.0943 - 5s/epoch - 4ms/step\n",
      "Flipped 1.4949999999999999 % of all elements\n",
      "Mean IOU: 0.06892186766084317\n",
      "Mean dist: 0.2731796800929472\n",
      "Mean mse: 0.041014374629694116\n",
      "Epoch 21\n",
      "1250/1250 - 5s - loss: 0.1056 - val_loss: 0.0936 - 5s/epoch - 4ms/step\n",
      "Flipped 1.24 % of all elements\n",
      "Mean IOU: 0.06889788030673345\n",
      "Mean dist: 0.27266691749145283\n",
      "Mean mse: 0.04066460587045393\n",
      "Epoch 22\n",
      "1250/1250 - 5s - loss: 0.1041 - val_loss: 0.0930 - 5s/epoch - 4ms/step\n",
      "Flipped 1.1900000000000002 % of all elements\n",
      "Mean IOU: 0.06920292360695217\n",
      "Mean dist: 0.2719442300809874\n",
      "Mean mse: 0.040221982461887025\n",
      "Epoch 23\n",
      "1250/1250 - 6s - loss: 0.1021 - val_loss: 0.0925 - 6s/epoch - 4ms/step\n",
      "Flipped 1.1900000000000002 % of all elements\n",
      "Mean IOU: 0.06894398981713291\n",
      "Mean dist: 0.2718156537371407\n",
      "Mean mse: 0.04000958320289838\n",
      "Epoch 24\n",
      "1250/1250 - 5s - loss: 0.1006 - val_loss: 0.0923 - 5s/epoch - 4ms/step\n",
      "Flipped 1.1575 % of all elements\n",
      "Mean IOU: 0.06810593688529933\n",
      "Mean dist: 0.2720355840789074\n",
      "Mean mse: 0.039957279194309844\n",
      "Epoch 25\n",
      "1250/1250 - 5s - loss: 0.0993 - val_loss: 0.0917 - 5s/epoch - 4ms/step\n",
      "Flipped 1.0975000000000001 % of all elements\n",
      "Mean IOU: 0.06841148958355357\n",
      "Mean dist: 0.2711922421137261\n",
      "Mean mse: 0.03957733958441083\n",
      "Epoch 26\n",
      "1250/1250 - 5s - loss: 0.0979 - val_loss: 0.0913 - 5s/epoch - 4ms/step\n",
      "Flipped 1.08 % of all elements\n",
      "Mean IOU: 0.0677908414740033\n",
      "Mean dist: 0.27134766756793194\n",
      "Mean mse: 0.03948672962688196\n",
      "Epoch 27\n",
      "1250/1250 - 5s - loss: 0.0961 - val_loss: 0.0909 - 5s/epoch - 4ms/step\n",
      "Flipped 1.0250000000000001 % of all elements\n",
      "Mean IOU: 0.06764121841713563\n",
      "Mean dist: 0.2711894622779678\n",
      "Mean mse: 0.03930247875459127\n",
      "Epoch 28\n",
      "1250/1250 - 5s - loss: 0.0951 - val_loss: 0.0906 - 5s/epoch - 4ms/step\n",
      "Flipped 1.065 % of all elements\n",
      "Mean IOU: 0.06719146912066354\n",
      "Mean dist: 0.270617755502481\n",
      "Mean mse: 0.039165049278942134\n",
      "Epoch 29\n",
      "1250/1250 - 5s - loss: 0.0935 - val_loss: 0.0900 - 5s/epoch - 4ms/step\n",
      "Flipped 0.9275 % of all elements\n",
      "Mean IOU: 0.06753684651099326\n",
      "Mean dist: 0.2697900266292672\n",
      "Mean mse: 0.03885970596183139\n",
      "Epoch 30\n",
      "1250/1250 - 6s - loss: 0.0926 - val_loss: 0.0895 - 6s/epoch - 4ms/step\n",
      "Flipped 0.88 % of all elements\n",
      "Mean IOU: 0.06818972290396254\n",
      "Mean dist: 0.269288862003338\n",
      "Mean mse: 0.038567697060008475\n",
      "Epoch 31\n",
      "1250/1250 - 6s - loss: 0.0915 - val_loss: 0.0893 - 6s/epoch - 5ms/step\n",
      "Flipped 0.9075 % of all elements\n",
      "Mean IOU: 0.0678258743979408\n",
      "Mean dist: 0.269296906246299\n",
      "Mean mse: 0.038475099243413954\n",
      "Epoch 32\n",
      "1250/1250 - 6s - loss: 0.0906 - val_loss: 0.0890 - 6s/epoch - 4ms/step\n",
      "Flipped 0.8325000000000001 % of all elements\n",
      "Mean IOU: 0.06769311676129222\n",
      "Mean dist: 0.26928039341767523\n",
      "Mean mse: 0.038373603874306876\n",
      "Epoch 33\n",
      "1250/1250 - 5s - loss: 0.0896 - val_loss: 0.0885 - 5s/epoch - 4ms/step\n",
      "Flipped 0.8825 % of all elements\n",
      "Mean IOU: 0.06810913417733973\n",
      "Mean dist: 0.2684449163676419\n",
      "Mean mse: 0.038080733711375936\n",
      "Epoch 34\n",
      "1250/1250 - 6s - loss: 0.0888 - val_loss: 0.0882 - 6s/epoch - 5ms/step\n",
      "Flipped 0.8375 % of all elements\n",
      "Mean IOU: 0.06802650775657734\n",
      "Mean dist: 0.26847852095895247\n",
      "Mean mse: 0.03799313005780249\n",
      "Epoch 35\n",
      "1250/1250 - 5s - loss: 0.0880 - val_loss: 0.0880 - 5s/epoch - 4ms/step\n",
      "Flipped 0.73 % of all elements\n",
      "Mean IOU: 0.06771962941308554\n",
      "Mean dist: 0.268100259750207\n",
      "Mean mse: 0.03788077847701812\n",
      "Epoch 36\n",
      "1250/1250 - 5s - loss: 0.0874 - val_loss: 0.0876 - 5s/epoch - 4ms/step\n",
      "Flipped 0.8024999999999999 % of all elements\n",
      "Mean IOU: 0.06795474494117533\n",
      "Mean dist: 0.2674894688560774\n",
      "Mean mse: 0.03768465305161031\n",
      "Epoch 37\n",
      "1250/1250 - 5s - loss: 0.0866 - val_loss: 0.0874 - 5s/epoch - 4ms/step\n",
      "Flipped 0.8 % of all elements\n",
      "Mean IOU: 0.0679185172206082\n",
      "Mean dist: 0.26731886692308626\n",
      "Mean mse: 0.03760129028820072\n",
      "Epoch 38\n",
      "1250/1250 - 6s - loss: 0.0860 - val_loss: 0.0870 - 6s/epoch - 5ms/step\n",
      "Flipped 0.715 % of all elements\n",
      "Mean IOU: 0.06815396570371604\n",
      "Mean dist: 0.26695056625935615\n",
      "Mean mse: 0.03742512519541587\n",
      "Epoch 39\n",
      "1250/1250 - 5s - loss: 0.0851 - val_loss: 0.0868 - 5s/epoch - 4ms/step\n",
      "Flipped 0.7075 % of all elements\n",
      "Mean IOU: 0.06793087122817988\n",
      "Mean dist: 0.26661730318671534\n",
      "Mean mse: 0.03733218059073343\n",
      "Epoch 40\n",
      "1250/1250 - 5s - loss: 0.0845 - val_loss: 0.0866 - 5s/epoch - 4ms/step\n"
     ]
    },
    {
     "name": "stdout",
     "output_type": "stream",
     "text": [
      "Flipped 0.7325 % of all elements\n",
      "Mean IOU: 0.06807107856588251\n",
      "Mean dist: 0.2665827398685788\n",
      "Mean mse: 0.03724704728782213\n",
      "Epoch 41\n",
      "1250/1250 - 5s - loss: 0.0838 - val_loss: 0.0862 - 5s/epoch - 4ms/step\n",
      "Flipped 0.66 % of all elements\n",
      "Mean IOU: 0.0683403489624643\n",
      "Mean dist: 0.2660531793854187\n",
      "Mean mse: 0.03705305409680149\n",
      "Epoch 42\n",
      "1250/1250 - 5s - loss: 0.0833 - val_loss: 0.0860 - 5s/epoch - 4ms/step\n",
      "Flipped 0.7100000000000001 % of all elements\n",
      "Mean IOU: 0.06853426376681108\n",
      "Mean dist: 0.2656001917944258\n",
      "Mean mse: 0.03689124358325396\n",
      "Epoch 43\n",
      "1250/1250 - 6s - loss: 0.0827 - val_loss: 0.0857 - 6s/epoch - 5ms/step\n",
      "Flipped 0.7100000000000001 % of all elements\n",
      "Mean IOU: 0.06895979599810978\n",
      "Mean dist: 0.2651796625973393\n",
      "Mean mse: 0.036732184110722314\n",
      "Epoch 44\n",
      "1250/1250 - 5s - loss: 0.0820 - val_loss: 0.0854 - 5s/epoch - 4ms/step\n",
      "Flipped 0.5575 % of all elements\n",
      "Mean IOU: 0.0693189279915112\n",
      "Mean dist: 0.264915870836968\n",
      "Mean mse: 0.03658344683036967\n",
      "Epoch 45\n",
      "1250/1250 - 5s - loss: 0.0816 - val_loss: 0.0853 - 5s/epoch - 4ms/step\n",
      "Flipped 0.6775 % of all elements\n",
      "Mean IOU: 0.06895475579956221\n",
      "Mean dist: 0.26482397715835954\n",
      "Mean mse: 0.03655087881429429\n",
      "Epoch 46\n",
      "1250/1250 - 6s - loss: 0.0812 - val_loss: 0.0850 - 6s/epoch - 4ms/step\n",
      "Flipped 0.7025 % of all elements\n",
      "Mean IOU: 0.06913828050002534\n",
      "Mean dist: 0.2643214441482795\n",
      "Mean mse: 0.03641134894327439\n",
      "Epoch 47\n",
      "1250/1250 - 5s - loss: 0.0808 - val_loss: 0.0848 - 5s/epoch - 4ms/step\n",
      "Flipped 0.605 % of all elements\n",
      "Mean IOU: 0.06957038231807634\n",
      "Mean dist: 0.26407564442597903\n",
      "Mean mse: 0.03627838280721903\n",
      "Epoch 48\n",
      "1250/1250 - 6s - loss: 0.0804 - val_loss: 0.0846 - 6s/epoch - 5ms/step\n",
      "Flipped 0.615 % of all elements\n",
      "Mean IOU: 0.06966202659771499\n",
      "Mean dist: 0.2638295526280639\n",
      "Mean mse: 0.03618401163445026\n",
      "Epoch 49\n",
      "1250/1250 - 9s - loss: 0.0797 - val_loss: 0.0843 - 9s/epoch - 7ms/step\n",
      "Flipped 0.6074999999999999 % of all elements\n",
      "Mean IOU: 0.06987147773665828\n",
      "Mean dist: 0.2635279976088735\n",
      "Mean mse: 0.03606558395972428\n"
     ]
    }
   ],
   "source": [
    "# Flip bboxes during training.\n",
    "# Note: The validation loss is always quite big here because we don't flip the bounding boxes for the validation data. \n",
    "def IOU(bbox1, bbox2):\n",
    "    '''Calculate overlap between two bounding boxes [x, y, w, h] as the area of intersection over the area of unity'''\n",
    "    x1, y1, w1, h1 = bbox1[0], bbox1[1], bbox1[2], bbox1[3]  # TODO: Check if its more performant if tensor elements are accessed directly below.\n",
    "    x2, y2, w2, h2 = bbox2[0], bbox2[1], bbox2[2], bbox2[3]\n",
    "\n",
    "    w_I = min(x1 + w1, x2 + w2) - max(x1, x2)\n",
    "    h_I = min(y1 + h1, y2 + h2) - max(y1, y2)\n",
    "    if w_I <= 0 or h_I <= 0:  # no overlap\n",
    "        return 0\n",
    "    I = w_I * h_I\n",
    "\n",
    "    U = w1 * h1 + w2 * h2 - I\n",
    "\n",
    "    return I / U\n",
    "\n",
    "def dist(bbox1, bbox2):\n",
    "    return np.sqrt(np.sum(np.square(bbox1[:2] - bbox2[:2])))\n",
    "\n",
    "num_epochs_flipping = 50\n",
    "num_epochs_no_flipping = 0  # has no significant effect\n",
    "flipped_train_y = np.array(train_y)\n",
    "flipped = np.zeros((len(flipped_train_y), num_epochs_flipping + num_epochs_no_flipping))\n",
    "ious_epoch = np.zeros((len(flipped_train_y), num_epochs_flipping + num_epochs_no_flipping))\n",
    "dists_epoch = np.zeros((len(flipped_train_y), num_epochs_flipping + num_epochs_no_flipping))\n",
    "mses_epoch = np.zeros((len(flipped_train_y), num_epochs_flipping + num_epochs_no_flipping))\n",
    "\n",
    "# TODO: Calculate ious directly for all samples (using slices of the array pred_y for x, y, w, h).\n",
    "for epoch in range(num_epochs_flipping):\n",
    "    print('Epoch', epoch)\n",
    "    model.fit(train_X, flipped_train_y, epochs=1, validation_data=(test_X, test_y), verbose=2)\n",
    "    pred_y = model.predict(train_X)\n",
    "\n",
    "    for sample, (pred, exp) in enumerate(zip(pred_y, flipped_train_y)):\n",
    "        \n",
    "        # TODO: Make this simpler.\n",
    "        pred = pred.reshape(num_objects, -1)\n",
    "        exp = exp.reshape(num_objects, -1)\n",
    "        \n",
    "        pred_bboxes = pred[:, :4]\n",
    "        exp_bboxes = exp[:, :4]\n",
    "        \n",
    "        # TODO: Try flipping array and see if results differ.\n",
    "        ious = np.zeros((num_objects, num_objects))\n",
    "        dists = np.zeros((num_objects, num_objects))\n",
    "        mses = np.zeros((num_objects, num_objects))\n",
    "        for i, exp_bbox in enumerate(exp_bboxes):\n",
    "            for j, pred_bbox in enumerate(pred_bboxes):\n",
    "                ious[i, j] = IOU(exp_bbox, pred_bbox)\n",
    "                dists[i, j] = dist(exp_bbox, pred_bbox)\n",
    "                mses[i, j] = np.mean(np.square(exp_bbox - pred_bbox))\n",
    "                \n",
    "        new_order = np.zeros(num_objects, dtype=int)\n",
    "        \n",
    "        \n",
    "        for i in range(num_objects):\n",
    "            # Find pred and exp bbox with maximum iou and assign them to each other (i.e. switch the positions of the exp bboxes in y).\n",
    "            ind_exp_bbox, ind_pred_bbox = np.unravel_index(mses.argmin(), mses.shape)\n",
    "            ious_epoch[sample, epoch] += ious[ind_exp_bbox, ind_pred_bbox]\n",
    "            dists_epoch[sample, epoch] += dists[ind_exp_bbox, ind_pred_bbox]\n",
    "            mses_epoch[sample, epoch] += mses[ind_exp_bbox, ind_pred_bbox]\n",
    "            mses[ind_exp_bbox] = 1000000#-1  # set iou of assigned bboxes to -1, so they don't get assigned again\n",
    "            mses[:, ind_pred_bbox] = 10000000#-1\n",
    "            new_order[ind_pred_bbox] = ind_exp_bbox\n",
    "        \n",
    "        flipped_train_y[sample] = exp[new_order].flatten()\n",
    "        \n",
    "        flipped[sample, epoch] = 1. - np.mean(new_order == np.arange(num_objects, dtype=int))#np.array_equal(new_order, np.arange(num_objects, dtype=int))  # TODO: Change this to reflect the number of flips.\n",
    "        ious_epoch[sample, epoch] /= num_objects\n",
    "        dists_epoch[sample, epoch] /= num_objects\n",
    "        mses_epoch[sample, epoch] /= num_objects\n",
    "        \n",
    "            \n",
    "    print ('Flipped {} % of all elements'.format(np.mean(flipped[:, epoch]) * 100.))\n",
    "    print ('Mean IOU: {}'.format(np.mean(ious_epoch[:, epoch])))\n",
    "    print ('Mean dist: {}'.format(np.mean(dists_epoch[:, epoch])))\n",
    "    print ('Mean mse: {}'.format(np.mean(mses_epoch[:, epoch])))\n",
    "    print"
   ]
  },
  {
   "cell_type": "code",
   "execution_count": null,
   "id": "5da54be3",
   "metadata": {},
   "outputs": [],
   "source": []
  },
  {
   "cell_type": "code",
   "execution_count": 70,
   "id": "c6fedcc0",
   "metadata": {},
   "outputs": [
    {
     "data": {
      "text/plain": [
       "Text(0, 0.5, 'Training sample')"
      ]
     },
     "execution_count": 70,
     "metadata": {},
     "output_type": "execute_result"
    },
    {
     "data": {
      "image/png": "[encoded data removed]",
      "text/plain": [
       "<Figure size 1440x720 with 1 Axes>"
      ]
     },
     "metadata": {
      "needs_background": "light"
     },
     "output_type": "display_data"
    }
   ],
   "source": [
    "plt.pcolor(flipped[:1000], cmap='Greys', vmax=1.)\n",
    "# plt.axvline(num_epochs_flipping, c='r')\n",
    "plt.xlabel('Epoch')\n",
    "plt.ylabel('Training sample')"
   ]
  },
  {
   "cell_type": "code",
   "execution_count": 71,
   "id": "4cb6a832",
   "metadata": {},
   "outputs": [
    {
     "data": {
      "text/plain": [
       "(0.0, 1.0)"
      ]
     },
     "execution_count": 71,
     "metadata": {},
     "output_type": "execute_result"
    },
    {
     "data": {
      "image/png": "[encoded data removed]",
      "text/plain": [
       "<Figure size 1440x720 with 1 Axes>"
      ]
     },
     "metadata": {
      "needs_background": "light"
     },
     "output_type": "display_data"
    }
   ],
   "source": [
    "mean_ious_epoch = np.mean(ious_epoch, axis=0)\n",
    "mean_dists_epoch = np.mean(dists_epoch, axis=0)\n",
    "mean_mses_epoch = np.mean(mses_epoch, axis=0)\n",
    "plt.plot(mean_ious_epoch, label='Mean IOU')  # between predicted and assigned true bboxes\n",
    "plt.plot(mean_dists_epoch, label='Mean distance')  # relative to image size\n",
    "plt.plot(mean_mses_epoch, label='Mean mse')  # relative to image size\n",
    "plt.annotate(np.round(np.max(mean_ious_epoch), 3), (len(mean_ious_epoch)-1, mean_ious_epoch[-1]+0.03), horizontalalignment='right', color='b')\n",
    "plt.annotate(np.round(np.min(mean_dists_epoch), 3), (len(mean_dists_epoch)-1, mean_dists_epoch[-1]+0.03), horizontalalignment='right', color='g')\n",
    "plt.annotate(np.round(np.min(mean_mses_epoch), 3), (len(mean_mses_epoch)-1, mean_mses_epoch[-1]+0.03), horizontalalignment='right', color='r')\n",
    "# plt.axvline(num_epochs_flipping, c='r')\n",
    "plt.xlabel('Epoch')\n",
    "plt.legend()\n",
    "plt.ylim(0, 1)\n"
   ]
  },
  {
   "cell_type": "code",
   "execution_count": 72,
   "id": "8751c6a9",
   "metadata": {},
   "outputs": [
    {
     "name": "stderr",
     "output_type": "stream",
     "text": [
      "2022-05-29 12:25:57.489225: I tensorflow/core/grappler/optimizers/custom_graph_optimizer_registry.cc:113] Plugin optimizer for device_type GPU is enabled.\n"
     ]
    },
    {
     "data": {
      "text/plain": [
       "((10000, 2, 4), (10000, 2, 1))"
      ]
     },
     "execution_count": 72,
     "metadata": {},
     "output_type": "execute_result"
    }
   ],
   "source": [
    "pred_y = model.predict(test_X)\n",
    "pred_y = pred_y.reshape(len(pred_y), num_objects, -1)\n",
    "pred_bboxes = pred_y[..., :4] * img_size\n",
    "pred_shapes = pred_y[..., 4:5]\n",
    "pred_bboxes.shape, pred_shapes.shape"
   ]
  },
  {
   "cell_type": "code",
   "execution_count": 73,
   "id": "dee975a5",
   "metadata": {},
   "outputs": [
    {
     "data": {
      "image/png": "[encoded data removed]",
      "text/plain": [
       "<Figure size 1152x576 with 8 Axes>"
      ]
     },
     "metadata": {
      "needs_background": "light"
     },
     "output_type": "display_data"
    }
   ],
   "source": [
    "plt.figure(figsize=(16, 8))\n",
    "for i_subplot in range(1, 9):\n",
    "    plt.subplot(2, 4, i_subplot)\n",
    "    i = np.random.randint(len(test_X))\n",
    "    plt.imshow(test_imgs[i].T, cmap='Greys', interpolation='none', origin='lower', extent=[0, img_size, 0, img_size])\n",
    "    for pred_bbox, exp_bbox, pred_shape in zip(pred_bboxes[i], test_bboxes[i], pred_shapes[i]):\n",
    "        plt.gca().add_patch(matplotlib.patches.Rectangle((pred_bbox[0], pred_bbox[1]), pred_bbox[2], pred_bbox[3], ec='r' if pred_shape[0] <= 0.5 else 'y', fc='none'))\n"
   ]
  },
  {
   "cell_type": "code",
   "execution_count": null,
   "id": "04a6b747",
   "metadata": {},
   "outputs": [],
   "source": []
  },
  {
   "cell_type": "code",
   "execution_count": null,
   "id": "3b3d7971",
   "metadata": {},
   "outputs": [],
   "source": []
  },
  {
   "cell_type": "code",
   "execution_count": null,
   "id": "8b4e87c7",
   "metadata": {},
   "outputs": [],
   "source": []
  },
  {
   "cell_type": "code",
   "execution_count": null,
   "id": "d85360b2",
   "metadata": {},
   "outputs": [],
   "source": []
  }
 ],
 "metadata": {
  "kernelspec": {
   "display_name": "Python 3 (ipykernel)",
   "language": "python",
   "name": "python3"
  },
  "language_info": {
   "codemirror_mode": {
    "name": "ipython",
    "version": 3
   },
   "file_extension": ".py",
   "mimetype": "text/x-python",
   "name": "python",
   "nbconvert_exporter": "python",
   "pygments_lexer": "ipython3",
   "version": "3.9.7"
  },
  "toc": {
   "base_numbering": 1,
   "nav_menu": {},
   "number_sections": true,
   "sideBar": true,
   "skip_h1_title": true,
   "title_cell": "Table of Contents",
   "title_sidebar": "Contents",
   "toc_cell": true,
   "toc_position": {
    "height": "calc(100% - 180px)",
    "left": "10px",
    "top": "150px",
    "width": "333.5833435058594px"
   },
   "toc_section_display": true,
   "toc_window_display": true
  }
 },
 "nbformat": 4,
 "nbformat_minor": 5
}
