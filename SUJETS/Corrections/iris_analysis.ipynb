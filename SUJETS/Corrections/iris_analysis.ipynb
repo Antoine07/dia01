import numpy as np
import pandas as pd
import seaborn as sns
import matplotlib.pyplot as plt
from sklearn import datasets




# 03 Exercice Les iris

# C'est un dictionnaire
iris = datasets.load_iris()

# Les clés du dictionnaires
iris.keys()

# Nous allons essayer de visualiser une corrélation entre la longueur et
# la largeur des sépales des trois espèces d'iris.
# Utilisez un DataFrame Pandas pour faire cette représentation graphique.

iris_names = pd.Series(iris['target_names'])
feature_names = iris['feature_names']

df = pd.DataFrame(data=iris.data, columns=feature_names, index=iris_names[iris.target])
print(df.head())

sns.scatterplot(data=df, x="sepal length (cm)", y="sepal width (cm)", hue=df.index)
plt.show()

sns.regplot(data=df[df.index == "setosa"], x="sepal length (cm)", y="sepal width (cm)", robust=True, ci=None)
plt.show()

sns.regplot(data=df[df.index == "versicolor"], x="sepal length (cm)", y="sepal width (cm)", robust=True, ci=None)
plt.show()

sns.regplot(data=df[df.index == "virginica"], x="sepal length (cm)", y="sepal width (cm)", robust=True, ci=None)
plt.show()

df_setosa_sepals = pd.DataFrame({'x' : df[df.index == "setosa"]["sepal length (cm)"], 'y' : df[df.index == "setosa"]["sepal width (cm)"]})
df_versicolor_sepals = pd.DataFrame({'x' : df[df.index == "versicolor"]["sepal length (cm)"], 'y' : df[df.index == "versicolor"]["sepal width (cm)"]})
df_virginica_sepals = pd.DataFrame({'x' : df[df.index == "virginica"]["sepal length (cm)"], 'y' : df[df.index == "virginica"]["sepal width (cm)"]})

print(df_setosa_sepals.corr(method='pearson'))
print(df_versicolor_sepals.corr(method='pearson'))
print(df_virginica_sepals.corr(method='pearson'))

"D'après l'interprétation des graphiques ci-dessus, et grâce aux calculs des différents coefficients de corrélation, nous pouvons conclure que pour les Setosas, la longueur des sépales est très corrélée à leur largeur."
"En revanche pour ce qui est des Versicolors, la longueur et la largeur des sépales sont moyennement corrélées. Et elles sont encore moins corrélées pour les Virginicas."

# Vous ferez un deuxième graphique par rapport aux pétales pour voir
# s'il y a également une corrélation.

sns.scatterplot(data=df, x="petal length (cm)", y="petal width (cm)", hue=df.index)
plt.show()

sns.regplot(data=df[df.index == "setosa"], x="petal length (cm)", y="petal width (cm)", robust=True, ci=None)
plt.show()

sns.regplot(data=df[df.index == "versicolor"], x="petal length (cm)", y="petal width (cm)", robust=True, ci=None)
plt.show()

sns.regplot(data=df[df.index == "virginica"], x="petal length (cm)", y="petal width (cm)", robust=True, ci=None)
plt.show()

df_setosa_petals = pd.DataFrame({'x' : df[df.index == "setosa"]["petal length (cm)"], 'y' : df[df.index == "setosa"]["petal width (cm)"]})
df_versicolor_petals = pd.DataFrame({'x' : df[df.index == "versicolor"]["petal length (cm)"], 'y' : df[df.index == "versicolor"]["petal width (cm)"]})
df_virginica_petals = pd.DataFrame({'x' : df[df.index == "virginica"]["petal length (cm)"], 'y' : df[df.index == "virginica"]["petal width (cm)"]})

print(df_setosa_petals.corr(method='pearson'))
print(df_versicolor_petals.corr(method='pearson'))
print(df_virginica_petals.corr(method='pearson'))

"D'après l'interprétation des graphiques ci-dessus, et grâce aux calculs des différents coefficients de corrélation, nous pouvons conclure que pour les Versicolors, la longueur des pétales est très corrélée à leur largeur."
"En revanche pour ce qui est des Setosas, la longueur et la largeur des sépales sont faiblement corrélées. Et elles sont également peu corréléees pour les Virginicas."
