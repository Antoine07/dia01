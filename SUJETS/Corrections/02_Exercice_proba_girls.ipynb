{
 "cells": [
  {
   "cell_type": "markdown",
   "id": "990a27dd",
   "metadata": {},
   "source": [
    "# Proba\n",
    "\n",
    "Nous étudions les familles ayant deux enfants exactement.\n",
    "\n",
    "## Questions\n",
    "-  1. L'enfant aîné est une fille. Quelle est la probabilité que les deux enfants soient des filles ?\n",
    "-  2. Au moins l'un des deux est une fille. Quelle est la probabilité que les deux enfants soient des filles ?\n",
    "\n",
    "----\n",
    "\n",
    "- Avec un tableau on aurait respectivement pour 1) et 2)\n",
    "- sachant BG GG donc une chance sur 2 : 1/2\n",
    "- sachant BG GG GB et donc : 1/3\n",
    "\n",
    "## Moralité \n",
    "\n",
    "si on sait que au moins un des deux est une fille alors on a deux fois plus de chance que \n",
    "le deuxième enfant soit un garçon."
   ]
  },
  {
   "cell_type": "code",
   "execution_count": 35,
   "id": "a5472a79",
   "metadata": {},
   "outputs": [],
   "source": [
    "import pandas as pd\n",
    "import numpy as np\n",
    "import matplotlib.pyplot as plt\n",
    "import seaborn as sns"
   ]
  },
  {
   "cell_type": "code",
   "execution_count": 36,
   "id": "be745282",
   "metadata": {},
   "outputs": [],
   "source": [
    "# Constantes \n",
    "# N nombre d'essai pour mon expérience\n",
    "NB_EXPERIENCE = 1_000\n",
    "NB_CHILD = 2\n",
    "PRECISION = 2"
   ]
  },
  {
   "cell_type": "code",
   "execution_count": 39,
   "id": "df2b356a",
   "metadata": {},
   "outputs": [],
   "source": [
    "# expérience\n",
    "\n",
    "# on lance les expériences\n",
    "def simulate(nb_exp = NB_EXPERIENCE):\n",
    "    both_girls = 0 # les deux sont des filles\n",
    "    older_girl = 0 # l'aîné est une fille\n",
    "    either_girl = 0 # au moins l'un des deux est une fille\n",
    "    \n",
    "    for _ in range(nb_exp):\n",
    "        younger, older = np.random.choice(['girl', 'boy'], NB_CHILD)\n",
    "\n",
    "        #  Le nombre de familles dont l'ainé est une fille\n",
    "        if older == 'girl':\n",
    "            older_girl += 1\n",
    "\n",
    "         #  Le nombre de familles dont les deux enfants sont une fille\n",
    "        if older == 'girl' and younger == 'girl':\n",
    "            both_girls += 1\n",
    "\n",
    "         #  Le nombre de familles qui ont au moins une fille\n",
    "        if older == 'girl' or younger == 'girl':\n",
    "            either_girl += 1\n",
    "            \n",
    "    return { \n",
    "        'pBothGirlsOlderGirl' : both_girls/older_girl , \n",
    "        'pBothGirlEitherGirl' : both_girls/either_girl\n",
    "    }\n",
    "        "
   ]
  },
  {
   "cell_type": "code",
   "execution_count": 44,
   "id": "eda40d37",
   "metadata": {},
   "outputs": [],
   "source": [
    "# On répète 1_000 fois l'expérience que l'on vient de faire puis on la met dans une liste \n",
    "# et enfin dans un DataFrame.\n",
    "stat = []\n",
    "for s in [ simulate() for _ in range(1_000) ]:\n",
    "    stat.append([s['pBothGirlsOlderGirl'], s['pBothGirlEitherGirl']])"
   ]
  },
  {
   "cell_type": "code",
   "execution_count": 46,
   "id": "f724a14d",
   "metadata": {},
   "outputs": [
    {
     "data": {
      "text/plain": [
       "(1000, 2)"
      ]
     },
     "execution_count": 46,
     "metadata": {},
     "output_type": "execute_result"
    }
   ],
   "source": [
    "np.array(stat).shape"
   ]
  },
  {
   "cell_type": "code",
   "execution_count": 47,
   "id": "6581fd07",
   "metadata": {},
   "outputs": [],
   "source": [
    "dfSimulate = pd.DataFrame(np.array(stat), columns=['pBothGirlsOlderGirl', 'pBothGirlEitherGirl'])"
   ]
  },
  {
   "cell_type": "code",
   "execution_count": 48,
   "id": "2d097afa",
   "metadata": {},
   "outputs": [
    {
     "data": {
      "text/html": [
       "<div>\n",
       "<style scoped>\n",
       "    .dataframe tbody tr th:only-of-type {\n",
       "        vertical-align: middle;\n",
       "    }\n",
       "\n",
       "    .dataframe tbody tr th {\n",
       "        vertical-align: top;\n",
       "    }\n",
       "\n",
       "    .dataframe thead th {\n",
       "        text-align: right;\n",
       "    }\n",
       "</style>\n",
       "<table border=\"1\" class=\"dataframe\">\n",
       "  <thead>\n",
       "    <tr style=\"text-align: right;\">\n",
       "      <th></th>\n",
       "      <th>pBothGirlsOlderGirl</th>\n",
       "      <th>pBothGirlEitherGirl</th>\n",
       "    </tr>\n",
       "  </thead>\n",
       "  <tbody>\n",
       "    <tr>\n",
       "      <th>0</th>\n",
       "      <td>0.514851</td>\n",
       "      <td>0.350877</td>\n",
       "    </tr>\n",
       "    <tr>\n",
       "      <th>1</th>\n",
       "      <td>0.484076</td>\n",
       "      <td>0.310204</td>\n",
       "    </tr>\n",
       "    <tr>\n",
       "      <th>2</th>\n",
       "      <td>0.460922</td>\n",
       "      <td>0.309140</td>\n",
       "    </tr>\n",
       "    <tr>\n",
       "      <th>3</th>\n",
       "      <td>0.552632</td>\n",
       "      <td>0.376440</td>\n",
       "    </tr>\n",
       "    <tr>\n",
       "      <th>4</th>\n",
       "      <td>0.521739</td>\n",
       "      <td>0.355795</td>\n",
       "    </tr>\n",
       "  </tbody>\n",
       "</table>\n",
       "</div>"
      ],
      "text/plain": [
       "   pBothGirlsOlderGirl  pBothGirlEitherGirl\n",
       "0             0.514851             0.350877\n",
       "1             0.484076             0.310204\n",
       "2             0.460922             0.309140\n",
       "3             0.552632             0.376440\n",
       "4             0.521739             0.355795"
      ]
     },
     "execution_count": 48,
     "metadata": {},
     "output_type": "execute_result"
    }
   ],
   "source": [
    "dfSimulate.head()"
   ]
  },
  {
   "cell_type": "code",
   "execution_count": 53,
   "id": "9eea29a1",
   "metadata": {},
   "outputs": [
    {
     "data": {
      "image/png": "[encoded data removed]",
      "text/plain": [
       "<Figure size 432x288 with 2 Axes>"
      ]
     },
     "metadata": {
      "needs_background": "light"
     },
     "output_type": "display_data"
    }
   ],
   "source": [
    "ax = dfSimulate.hist();"
   ]
  }
 ],
 "metadata": {
  "kernelspec": {
   "display_name": "Python 3 (ipykernel)",
   "language": "python",
   "name": "python3"
  },
  "language_info": {
   "codemirror_mode": {
    "name": "ipython",
    "version": 3
   },
   "file_extension": ".py",
   "mimetype": "text/x-python",
   "name": "python",
   "nbconvert_exporter": "python",
   "pygments_lexer": "ipython3",
   "version": "3.9.7"
  }
 },
 "nbformat": 4,
 "nbformat_minor": 5
}
