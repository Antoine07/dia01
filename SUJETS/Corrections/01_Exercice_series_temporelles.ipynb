{
 "cells": [
  {
   "cell_type": "markdown",
   "id": "39d6d9eb",
   "metadata": {},
   "source": [
    "# Séries temporelles\n",
    "\n",
    "## Exercice serie temporelle\n",
    "\n",
    "*Sur une série temporelle vous avez la possiblité de définir des plages de dates, de définir des fréquences et d'utiliser des décalages sur les dates.*\n",
    "\n",
    "Précisez le timezone de la série temporelle avec le paramètre **tz**.\n",
    "\n",
    "```python\n",
    "# D pour Day\n",
    "s = pd.date_range('3/9/2019 9:30', periods=2, freq='D', tz='Europe/Paris')\n",
    "\n",
    "\"\"\"\n",
    "DatetimeIndex([\n",
    "    '2019-03-09 09:30:00+01:00',\n",
    "    '2019-03-10 09:30:00+01:00'],\n",
    "    dtype='datetime64[ns, Europe/Paris]',\n",
    "    freq='D'\n",
    ")\n",
    "\"\"\"\n",
    "```\n",
    "\n",
    "1. Créez une série de dates qui commence en 2019-01-01 (mardi 1 janvier 2019) et qui se termine 30 semaines plus tard, associez à chaque date un nombre aléatoire compris entre 100 et 200.\n",
    "\n",
    "*Vous vous aiderez de la méthode **date_range**, cette méthode possède un argument **freq** pour préciser la fréquence entre les dates et **periods** ici 30.*\n",
    "\n",
    "2. Trouvez maintenant les dates pour lesquelles la valeur aléatoire est la plus élevée. Même question pour la valeur min.\n",
    "\n",
    "3. Faites la somme des valeurs pour les 5 dernières semaines."
   ]
  },
  {
   "cell_type": "code",
   "execution_count": 2,
   "id": "ee3a957e",
   "metadata": {},
   "outputs": [],
   "source": [
    "import pandas as pd\n",
    "import numpy as np"
   ]
  },
  {
   "cell_type": "code",
   "execution_count": 4,
   "id": "28bfbe4d",
   "metadata": {},
   "outputs": [
    {
     "data": {
      "text/plain": [
       "2019-01-06    160\n",
       "2019-01-13    173\n",
       "2019-01-20    113\n",
       "2019-01-27    118\n",
       "2019-02-03    127\n",
       "Freq: W-SUN, dtype: int64"
      ]
     },
     "execution_count": 4,
     "metadata": {},
     "output_type": "execute_result"
    }
   ],
   "source": [
    "# 1\n",
    "ser = pd.Series(\n",
    "    np.random.randint(100, 200, 30),\n",
    "    index = pd.date_range('2019-01-01', periods=30, freq='W')\n",
    ")\n",
    "\n",
    "ser.head()"
   ]
  },
  {
   "cell_type": "code",
   "execution_count": 5,
   "id": "68ddbde4",
   "metadata": {},
   "outputs": [],
   "source": [
    "# 2 \n",
    "date_min_value, date_max_value = ser[ ser.min() == ser ], ser[ ser.max() == ser ]"
   ]
  },
  {
   "cell_type": "code",
   "execution_count": 33,
   "id": "3b190671",
   "metadata": {},
   "outputs": [
    {
     "name": "stdout",
     "output_type": "stream",
     "text": [
      "Sunday April 19 ---> value min = 109\n"
     ]
    }
   ],
   "source": [
    "# strftime format d'un DateTimeIndex, voyez les format \n",
    "print( date_min_value.index.strftime('%A %B %y')[0], \"---> value min =\", date_min_value.values[0] )"
   ]
  },
  {
   "cell_type": "code",
   "execution_count": 34,
   "id": "358f6aa9",
   "metadata": {},
   "outputs": [
    {
     "name": "stdout",
     "output_type": "stream",
     "text": [
      "Sunday March 19 ---> value max = 188\n"
     ]
    }
   ],
   "source": [
    "# strftime format d'un DateTimeIndex, voyez les format \n",
    "print( date_max_value.index.strftime('%A %B %y')[0], \"---> value max =\", date_max_value.values[0] )"
   ]
  },
  {
   "cell_type": "code",
   "execution_count": 36,
   "id": "d28ce33f",
   "metadata": {},
   "outputs": [
    {
     "name": "stdout",
     "output_type": "stream",
     "text": [
      "711\n"
     ]
    }
   ],
   "source": [
    "# 3 \n",
    "print( ser[-5:].sum() )"
   ]
  }
 ],
 "metadata": {
  "kernelspec": {
   "display_name": "Python 3 (ipykernel)",
   "language": "python",
   "name": "python3"
  },
  "language_info": {
   "codemirror_mode": {
    "name": "ipython",
    "version": 3
   },
   "file_extension": ".py",
   "mimetype": "text/x-python",
   "name": "python",
   "nbconvert_exporter": "python",
   "pygments_lexer": "ipython3",
   "version": "3.9.7"
  }
 },
 "nbformat": 4,
 "nbformat_minor": 5
}
