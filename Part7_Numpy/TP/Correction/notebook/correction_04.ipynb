{
 "cells": [
  {
   "cell_type": "code",
   "execution_count": 1,
   "metadata": {},
   "outputs": [
    {
     "name": "stdout",
     "output_type": "stream",
     "text": [
      "[[5.1 3.5 1.4 0.2]\n",
      " [4.9 3.  1.4 0.2]\n",
      " [4.7 3.2 1.3 0.2]\n",
      " [4.6 3.1 1.5 0.2]\n",
      " [5.  3.6 1.4 0.2]]\n",
      "[0 0 0 0 0 0 0 0 0 0 0 0 0 0 0 0 0 0 0 0 0 0 0 0 0 0 0 0 0 0 0 0 0 0 0 0 0\n",
      " 0 0 0 0 0 0 0 0 0 0 0 0 0 1 1 1 1 1 1 1 1 1 1 1 1 1 1 1 1 1 1 1 1 1 1 1 1\n",
      " 1 1 1 1 1 1 1 1 1 1 1 1 1 1 1 1 1 1 1 1 1 1 1 1 1 1]\n"
     ]
    }
   ],
   "source": [
    "import numpy as np\n",
    "from sklearn import datasets\n",
    "\n",
    "import matplotlib.pyplot as plt\n",
    "\n",
    "# Datasets\n",
    "iris = datasets.load_iris()\n",
    "\n",
    "# On peut s'interroger sur la structure de notre jeu de données pour avoir une idée de comment on va les exploter\n",
    "# dans notre ananlyse\n",
    "print(iris.keys())\n",
    "print(iris.data[:5])\n",
    "print(np.unique( iris.target ) )\n",
    "print(iris.target_names)"
   ]
  },
  {
   "cell_type": "code",
   "execution_count": 2,
   "metadata": {},
   "outputs": [
    {
     "name": "stdout",
     "output_type": "stream",
     "text": [
      "setosa 50\n",
      "versicolor 50\n",
      "virginica 50\n",
      "150\n"
     ]
    }
   ],
   "source": [
    "# 2. Comptez le nombre de fleures par catégorie.\n",
    "for i, name in enumerate(iris.target_names):\n",
    "    print(name, (iris.target == i).sum() )"
   ]
  },
  {
   "cell_type": "code",
   "execution_count": 3,
   "metadata": {},
   "outputs": [
    {
     "name": "stdout",
     "output_type": "stream",
     "text": [
      "5.006\n",
      "5.936\n",
      "6.588\n",
      "5.8433\n"
     ]
    }
   ],
   "source": [
    "# 3. Calculez la moyenne des longueurs des pétales, sépales de toutes les fleures, puis par catégorie de fleure.\n",
    "# Moyenne générale des longueurs de sépale\n",
    "print(\"moyenne générale des longueurs des sépales\",np.around(np.mean( iris.data[:,0])))\n",
    "# Moyenne générale des longueurs de pétale\n",
    "print(\"moyenne générale des longueurs des pétales\", np.around(np.mean( iris.data[:,2])))\n",
    "\n",
    "# sépale moyenne des longueurs pour la catégorie setosa\n",
    "print( \"sepale moyenne longueur setosa\" ,np.around( np.mean( iris.data[iris.target == 0][:, 0] ), 2 ) )\n",
    "print( \"sepale moyenne longueur versicolor\" ,np.around( np.mean( iris.data[iris.target == 1][:, 0] ), 2 ) )\n",
    "print( \"sepale moyenne longueur virginica\" ,np.around( np.mean( iris.data[iris.target == 2][:, 0] ), 2 ) )\n",
    "\n",
    "# pétale moyenne des longueurs par cat\n",
    "print(\"petale moyenne longueur setosa\" , np.around( np.mean( iris.data[iris.target == 0][:, 2] ), 2 ) )\n",
    "print( \"petale moyenne longueur versicolor\" ,np.around( np.mean( iris.data[iris.target == 1][:, 2] ), 2 ) )\n",
    "print( \"petale moyenne longueur virginica\" ,np.around( np.mean( iris.data[iris.target == 2][:, 2] ), 2 ) )"
   ]
  },
  {
   "cell_type": "code",
   "execution_count": 10,
   "metadata": {},
   "outputs": [
    {
     "name": "stdout",
     "output_type": "stream",
     "text": [
      "[[7.9 3.8 6.4 2. ]]\n",
      "[[7.9 3.8 6.4 2. ]]\n"
     ]
    }
   ],
   "source": [
    "# 4 Max de la longueur \n",
    "mask_length_petale = iris.data[:, 2] == np.max( iris.data[:, 2] )\n",
    "print(\"mask_length_petale\",iris.data[mask_length_petale])\n",
    "\n",
    "mask_surface_petale = iris.data[:, 2] * iris.data[:, 3] == np.max(iris.data[:, 2] * iris.data[:, 3])\n",
    "print(\"mask_surface_petale\",iris.data[mask_surface_petale])"
   ]
  },
  {
   "cell_type": "code",
   "execution_count": 45,
   "metadata": {},
   "outputs": [
    {
     "data": {
      "image/png": "[encoded data removed]",
      "text/plain": [
       "<Figure size 432x288 with 1 Axes>"
      ]
     },
     "metadata": {
      "needs_background": "light"
     },
     "output_type": "display_data"
    }
   ],
   "source": [
    "# 5, 6\n",
    "fig = plt.figure()\n",
    "# setosa\n",
    "plt.hist(iris.data[iris.target == 0][:, 2], rwidth=0.8)\n",
    "\n",
    "plt.ylabel('Longueur des pétales')\n",
    "plt.xlabel('Setosa')\n",
    "plt.title('Histogramme Setosa pétale');"
   ]
  },
  {
   "cell_type": "code",
   "execution_count": 44,
   "metadata": {},
   "outputs": [
    {
     "data": {
      "image/png": "[encoded data removed]",
      "text/plain": [
       "<Figure size 432x288 with 1 Axes>"
      ]
     },
     "metadata": {
      "needs_background": "light"
     },
     "output_type": "display_data"
    }
   ],
   "source": [
    "fig = plt.figure()\n",
    "# versicolor\n",
    "plt.hist(iris.data[iris.target == 1][:, 2], rwidth=0.8)\n",
    "\n",
    "plt.ylabel('Longueur des pétales')\n",
    "plt.xlabel('Versicolor')\n",
    "plt.title('Histogramme Versicolor pétale');"
   ]
  },
  {
   "cell_type": "code",
   "execution_count": 46,
   "metadata": {},
   "outputs": [
    {
     "data": {
      "image/png": "[encoded data removed]",
      "text/plain": [
       "<Figure size 432x288 with 1 Axes>"
      ]
     },
     "metadata": {
      "needs_background": "light"
     },
     "output_type": "display_data"
    }
   ],
   "source": [
    "fig = plt.figure()\n",
    "# virginica\n",
    "plt.hist(iris.data[iris.target == 1][:, 2], rwidth=0.8)\n",
    "plt.ylabel('Longueur des pétales')\n",
    "plt.xlabel('Virginica')\n",
    "plt.title('Histogramme Virginica pétale');"
   ]
  },
  {
   "cell_type": "code",
   "execution_count": null,
   "metadata": {},
   "outputs": [],
   "source": [
    "import random as r\n",
    "# 1. Bernouilli\n",
    "def bernouilli(p = .5):\n",
    "    \n",
    "    if r.random() > p:\n",
    "        return 0\n",
    "    \n",
    "    return 1\n",
    "\n",
    "print(bernouilli())"
   ]
  },
  {
   "cell_type": "code",
   "execution_count": null,
   "metadata": {},
   "outputs": [],
   "source": [
    "# 2 \n",
    "def experience(n, p = .5, target = 1):\n",
    "    count = 0\n",
    "    for _ in range(n):\n",
    "        if bernouilli(p) == target:\n",
    "            count += 1\n",
    "    return count\n",
    "data = [ experience(10) for _ in range(1_000_000) ]"
   ]
  },
  {
   "cell_type": "code",
   "execution_count": null,
   "metadata": {},
   "outputs": [],
   "source": [
    "# 3\n",
    "count = 0\n",
    "NB_SEARCH = 3\n",
    "for _ in range(1_000_000):\n",
    "    if experience(10) == NB_SEARCH:\n",
    "        count += 1"
   ]
  },
  {
   "cell_type": "code",
   "execution_count": null,
   "metadata": {},
   "outputs": [],
   "source": [
    "# Calcul empirique \n",
    "print(count/1_000_000)\n",
    "# théorique avec numpy\n",
    "((np.random.binomial(10, 0.5, 1_000_000) == NB_SEARCH).sum())/1_000_000"
   ]
  }
 ],
 "metadata": {
  "interpreter": {
   "hash": "aee8b7b246df8f9039afb4144a1f6fd8d2ca17a180786b69acc140d282b71a49"
  },
  "kernelspec": {
   "display_name": "Python 3.8.5 64-bit",
   "language": "python",
   "name": "python3"
  },
  "language_info": {
   "codemirror_mode": {
    "name": "ipython",
    "version": 3
   },
   "file_extension": ".py",
   "mimetype": "text/x-python",
   "name": "python",
   "nbconvert_exporter": "python",
   "pygments_lexer": "ipython3",
   "version": "3.8.5"
  }
 },
 "nbformat": 4,
 "nbformat_minor": 2
}
