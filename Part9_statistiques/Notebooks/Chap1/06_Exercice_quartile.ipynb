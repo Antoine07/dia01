{
 "cells": [
  {
   "cell_type": "code",
   "execution_count": 2,
   "id": "01628a64",
   "metadata": {},
   "outputs": [],
   "source": [
    "import pandas as pd\n",
    "import numpy as np"
   ]
  },
  {
   "cell_type": "code",
   "execution_count": 66,
   "id": "b8714e46",
   "metadata": {},
   "outputs": [],
   "source": [
    "# 10; 25; 30; 40; 41; 42; 50; 55; 70; 101; 110; 111\n",
    "data = [1,2,2,5, 6, 8, 17, 18, 22, 25, 30, 35, 36, 40, 41];\n",
    "sData = pd.Series(data)"
   ]
  },
  {
   "cell_type": "code",
   "execution_count": 74,
   "id": "7db133eb",
   "metadata": {
    "scrolled": true
   },
   "outputs": [
    {
     "name": "stdout",
     "output_type": "stream",
     "text": [
      "count    15.000000\n",
      "mean     19.200000\n",
      "std      14.707627\n",
      "min       1.000000\n",
      "25%       5.500000\n",
      "50%      18.000000\n",
      "75%      32.500000\n",
      "max      41.000000\n",
      "dtype: float64\n",
      "15.0\n",
      "5.5\n"
     ]
    }
   ],
   "source": [
    "describe = sData.describe()\n",
    "print(describe)\n",
    "count = describe['count']\n",
    "print(count)"
   ]
  },
  {
   "cell_type": "code",
   "execution_count": 75,
   "id": "8f7909da",
   "metadata": {},
   "outputs": [
    {
     "name": "stdout",
     "output_type": "stream",
     "text": [
      "27.0\n"
     ]
    }
   ],
   "source": [
    "count = describe['count']\n",
    "\n",
    "Q1 = describe['25%']\n",
    "Q3 = describe['75%']\n",
    "\n",
    "# Amplitude des données qui se trouvent dans la boite\n",
    "print(Q3 - Q1)"
   ]
  },
  {
   "cell_type": "code",
   "execution_count": 38,
   "id": "4939377f",
   "metadata": {},
   "outputs": [],
   "source": [
    "# 10, 25, 30,    10, 25, 30, 40, 41, 42, 50     10, 25, 30, 40, 41, 42, 50, 55, 70, "
   ]
  },
  {
   "cell_type": "code",
   "execution_count": 87,
   "id": "29578c6d",
   "metadata": {},
   "outputs": [
    {
     "name": "stdout",
     "output_type": "stream",
     "text": [
      "18.5\n"
     ]
    }
   ],
   "source": [
    "data_02 = [1,2 ,2 ,5 , 6, 8, 17, 18, 22, 25, 30, 35]\n",
    "sData_02 = pd.Series(data_02)\n",
    "describe = sData_02.describe()\n",
    "\n",
    "Q1 = describe['25%']\n",
    "Q3 = describe['75%']\n",
    "\n",
    "# Amplitude des données qui se trouvent dans la boite\n",
    "print(Q3 - Q1)"
   ]
  },
  {
   "cell_type": "code",
   "execution_count": 88,
   "id": "36100b8e",
   "metadata": {},
   "outputs": [
    {
     "name": "stdout",
     "output_type": "stream",
     "text": [
      "count    15.000000\n",
      "mean     19.200000\n",
      "std      14.707627\n",
      "min       1.000000\n",
      "25%       5.500000\n",
      "50%      18.000000\n",
      "75%      32.500000\n",
      "max      41.000000\n",
      "dtype: float64\n"
     ]
    }
   ],
   "source": [
    "data_03 = [1,2 ,2 ,5 , 6, 8, 17, 18, 22, 25, 30, 35, 36, 40, 41]\n",
    "sData_03 = pd.Series(data_03)\n",
    "describe = sData_03.describe()\n",
    "\n",
    "print(describe)"
   ]
  },
  {
   "cell_type": "code",
   "execution_count": 95,
   "id": "0fb3c1bc",
   "metadata": {},
   "outputs": [
    {
     "name": "stdout",
     "output_type": "stream",
     "text": [
      "6.0 36.0 22.0\n"
     ]
    }
   ],
   "source": [
    "data_04 = [1,2,2,5, 6, 15, 17, 18, 22, 25, 30, 35, 36, 40, 41, 50, 89]\n",
    "\n",
    "sData_04 = pd.Series(data_04)\n",
    "describe = sData_04.describe()\n",
    "\n",
    "count = describe['count']\n",
    "Q1 = describe['25%']\n",
    "Q3 = describe['75%']\n",
    "Me = describe['50%']\n",
    "\n",
    "print(Q1, Q3, Me)"
   ]
  },
  {
   "cell_type": "code",
   "execution_count": 99,
   "id": "d3f068f4",
   "metadata": {},
   "outputs": [
    {
     "name": "stdout",
     "output_type": "stream",
     "text": [
      "4.25\n",
      "17.0\n"
     ]
    },
    {
     "data": {
      "text/plain": [
       "count    17.000000\n",
       "mean     25.529412\n",
       "std      22.444703\n",
       "min       1.000000\n",
       "25%       6.000000\n",
       "50%      22.000000\n",
       "75%      36.000000\n",
       "max      89.000000\n",
       "dtype: float64"
      ]
     },
     "execution_count": 99,
     "metadata": {},
     "output_type": "execute_result"
    }
   ],
   "source": [
    "print(count/4)\n",
    "print(count)\n",
    "describe"
   ]
  },
  {
   "cell_type": "code",
   "execution_count": 100,
   "id": "5fdf064c",
   "metadata": {},
   "outputs": [
    {
     "name": "stdout",
     "output_type": "stream",
     "text": [
      "10.5\n"
     ]
    }
   ],
   "source": [
    "print(21/2)"
   ]
  }
 ],
 "metadata": {
  "kernelspec": {
   "display_name": "Python 3 (ipykernel)",
   "language": "python",
   "name": "python3"
  },
  "language_info": {
   "codemirror_mode": {
    "name": "ipython",
    "version": 3
   },
   "file_extension": ".py",
   "mimetype": "text/x-python",
   "name": "python",
   "nbconvert_exporter": "python",
   "pygments_lexer": "ipython3",
   "version": "3.9.7"
  }
 },
 "nbformat": 4,
 "nbformat_minor": 5
}
