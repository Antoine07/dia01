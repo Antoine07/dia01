{
 "cells": [
  {
   "cell_type": "code",
   "execution_count": 26,
   "id": "4f982af2",
   "metadata": {},
   "outputs": [],
   "source": [
    "import numpy as np\n",
    "import pandas as pd\n",
    "\n",
    "area = [19,30,39,52,65,79,92,108]\n",
    "## price = [280 ,485  ,615  ,670  ,865  ,1080 ,1260 ,1645 ][::-1]\n",
    "price = [280 ,485  ,615  ,670  ,865  ,1080 ,1260 ,1645 ]\n",
    "\n",
    "df = pd.DataFrame({'area' : area, 'price' : price})"
   ]
  },
  {
   "cell_type": "code",
   "execution_count": 27,
   "id": "79a722f8",
   "metadata": {},
   "outputs": [],
   "source": [
    "def cov(x,y):\n",
    "    return np.sum((x-x.mean()) * (y-y.mean()) / x.count())"
   ]
  },
  {
   "cell_type": "code",
   "execution_count": 28,
   "id": "8a695943",
   "metadata": {},
   "outputs": [
    {
     "data": {
      "text/plain": [
       "12046.25"
      ]
     },
     "execution_count": 28,
     "metadata": {},
     "output_type": "execute_result"
    }
   ],
   "source": [
    "cov(df.area, df.price)"
   ]
  },
  {
   "cell_type": "code",
   "execution_count": 29,
   "id": "5ec1fbb1",
   "metadata": {},
   "outputs": [
    {
     "name": "stdout",
     "output_type": "stream",
     "text": [
      "[190000, 300000, 390000, 520000, 650000, 790000, 920000, 1080000]\n"
     ]
    }
   ],
   "source": [
    "# Changement d'unité\n",
    "area = [19,30,39,52,65,79,92,108]\n",
    "\n",
    "area_cm2 = [ x * 10**4 for x in area ]\n",
    "print(area_cm2)\n",
    "df2 = pd.DataFrame({'area' : area_cm2, 'price' : price})"
   ]
  },
  {
   "cell_type": "code",
   "execution_count": 30,
   "id": "6d4fe704",
   "metadata": {},
   "outputs": [
    {
     "data": {
      "text/plain": [
       "120462500.0"
      ]
     },
     "execution_count": 30,
     "metadata": {},
     "output_type": "execute_result"
    }
   ],
   "source": [
    "cov(df2.area, df2.price)"
   ]
  },
  {
   "cell_type": "code",
   "execution_count": 31,
   "id": "7fbe8666",
   "metadata": {},
   "outputs": [],
   "source": [
    "def corr(x, y):\n",
    "    return cov(x, y) / ( np.std(x) * np.std(y) )"
   ]
  },
  {
   "cell_type": "code",
   "execution_count": 32,
   "id": "ba1e3839",
   "metadata": {},
   "outputs": [
    {
     "data": {
      "text/plain": [
       "0.98863624509539"
      ]
     },
     "execution_count": 32,
     "metadata": {},
     "output_type": "execute_result"
    }
   ],
   "source": [
    "corr(df2.area, df2.price)"
   ]
  },
  {
   "cell_type": "code",
   "execution_count": 33,
   "id": "c7862e08",
   "metadata": {},
   "outputs": [
    {
     "data": {
      "text/plain": [
       "0.98863624509539"
      ]
     },
     "execution_count": 33,
     "metadata": {},
     "output_type": "execute_result"
    }
   ],
   "source": [
    "corr(df.area, df.price)"
   ]
  },
  {
   "cell_type": "code",
   "execution_count": 37,
   "id": "3c646c73",
   "metadata": {},
   "outputs": [
    {
     "data": {
      "text/plain": [
       "array([[   849.75,  12046.25],\n",
       "       [ 12046.25, 174718.75]])"
      ]
     },
     "execution_count": 37,
     "metadata": {},
     "output_type": "execute_result"
    }
   ],
   "source": [
    "np.cov(df.area, df.price, ddof=0) # ddof sans degré de liberté\n",
    "# Matrice des covariances"
   ]
  },
  {
   "cell_type": "code",
   "execution_count": null,
   "id": "6826a77a",
   "metadata": {},
   "outputs": [],
   "source": []
  }
 ],
 "metadata": {
  "kernelspec": {
   "display_name": "Python 3 (ipykernel)",
   "language": "python",
   "name": "python3"
  },
  "language_info": {
   "codemirror_mode": {
    "name": "ipython",
    "version": 3
   },
   "file_extension": ".py",
   "mimetype": "text/x-python",
   "name": "python",
   "nbconvert_exporter": "python",
   "pygments_lexer": "ipython3",
   "version": "3.9.7"
  }
 },
 "nbformat": 4,
 "nbformat_minor": 5
}
